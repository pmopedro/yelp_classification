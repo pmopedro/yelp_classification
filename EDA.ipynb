{
 "cells": [
  {
   "cell_type": "code",
   "execution_count": 1,
   "id": "d6a04d9a-68f0-4878-953b-66134229e2dc",
   "metadata": {},
   "outputs": [],
   "source": [
    "import pandas as pd"
   ]
  },
  {
   "cell_type": "markdown",
   "id": "ac6d43e0-20c5-4906-a6e3-05c2dfe4d370",
   "metadata": {},
   "source": [
    "## 1. Business Dataset"
   ]
  },
  {
   "cell_type": "code",
   "execution_count": 8,
   "id": "18ced2de-ef12-41a5-9c09-71dee5b085af",
   "metadata": {},
   "outputs": [
    {
     "data": {
      "text/html": [
       "<div>\n",
       "<style scoped>\n",
       "    .dataframe tbody tr th:only-of-type {\n",
       "        vertical-align: middle;\n",
       "    }\n",
       "\n",
       "    .dataframe tbody tr th {\n",
       "        vertical-align: top;\n",
       "    }\n",
       "\n",
       "    .dataframe thead th {\n",
       "        text-align: right;\n",
       "    }\n",
       "</style>\n",
       "<table border=\"1\" class=\"dataframe\">\n",
       "  <thead>\n",
       "    <tr style=\"text-align: right;\">\n",
       "      <th></th>\n",
       "      <th>business_id</th>\n",
       "      <th>name</th>\n",
       "      <th>address</th>\n",
       "      <th>city</th>\n",
       "      <th>state</th>\n",
       "      <th>postal_code</th>\n",
       "      <th>latitude</th>\n",
       "      <th>longitude</th>\n",
       "      <th>stars</th>\n",
       "      <th>review_count</th>\n",
       "      <th>is_open</th>\n",
       "      <th>attributes</th>\n",
       "      <th>categories</th>\n",
       "      <th>hours</th>\n",
       "    </tr>\n",
       "  </thead>\n",
       "  <tbody>\n",
       "    <tr>\n",
       "      <th>0</th>\n",
       "      <td>6iYb2HFDywm3zjuRg0shjw</td>\n",
       "      <td>Oskar Blues Taproom</td>\n",
       "      <td>921 Pearl St</td>\n",
       "      <td>Boulder</td>\n",
       "      <td>CO</td>\n",
       "      <td>80302</td>\n",
       "      <td>40.017544</td>\n",
       "      <td>-105.283348</td>\n",
       "      <td>4.0</td>\n",
       "      <td>86</td>\n",
       "      <td>1</td>\n",
       "      <td>{'RestaurantsTableService': 'True', 'WiFi': 'u...</td>\n",
       "      <td>Gastropubs, Food, Beer Gardens, Restaurants, B...</td>\n",
       "      <td>{'Monday': '11:0-23:0', 'Tuesday': '11:0-23:0'...</td>\n",
       "    </tr>\n",
       "    <tr>\n",
       "      <th>1</th>\n",
       "      <td>tCbdrRPZA0oiIYSmHG3J0w</td>\n",
       "      <td>Flying Elephants at PDX</td>\n",
       "      <td>7000 NE Airport Way</td>\n",
       "      <td>Portland</td>\n",
       "      <td>OR</td>\n",
       "      <td>97218</td>\n",
       "      <td>45.588906</td>\n",
       "      <td>-122.593331</td>\n",
       "      <td>4.0</td>\n",
       "      <td>126</td>\n",
       "      <td>1</td>\n",
       "      <td>{'RestaurantsTakeOut': 'True', 'RestaurantsAtt...</td>\n",
       "      <td>Salad, Soup, Sandwiches, Delis, Restaurants, C...</td>\n",
       "      <td>{'Monday': '5:0-18:0', 'Tuesday': '5:0-17:0', ...</td>\n",
       "    </tr>\n",
       "    <tr>\n",
       "      <th>2</th>\n",
       "      <td>bvN78flM8NLprQ1a1y5dRg</td>\n",
       "      <td>The Reclaimory</td>\n",
       "      <td>4720 Hawthorne Ave</td>\n",
       "      <td>Portland</td>\n",
       "      <td>OR</td>\n",
       "      <td>97214</td>\n",
       "      <td>45.511907</td>\n",
       "      <td>-122.613693</td>\n",
       "      <td>4.5</td>\n",
       "      <td>13</td>\n",
       "      <td>1</td>\n",
       "      <td>{'BusinessAcceptsCreditCards': 'True', 'Restau...</td>\n",
       "      <td>Antiques, Fashion, Used, Vintage &amp; Consignment...</td>\n",
       "      <td>{'Thursday': '11:0-18:0', 'Friday': '11:0-18:0...</td>\n",
       "    </tr>\n",
       "    <tr>\n",
       "      <th>3</th>\n",
       "      <td>oaepsyvc0J17qwi8cfrOWg</td>\n",
       "      <td>Great Clips</td>\n",
       "      <td>2566 Enterprise Rd</td>\n",
       "      <td>Orange City</td>\n",
       "      <td>FL</td>\n",
       "      <td>32763</td>\n",
       "      <td>28.914482</td>\n",
       "      <td>-81.295979</td>\n",
       "      <td>3.0</td>\n",
       "      <td>8</td>\n",
       "      <td>1</td>\n",
       "      <td>{'RestaurantsPriceRange2': '1', 'BusinessAccep...</td>\n",
       "      <td>Beauty &amp; Spas, Hair Salons</td>\n",
       "      <td>None</td>\n",
       "    </tr>\n",
       "    <tr>\n",
       "      <th>4</th>\n",
       "      <td>PE9uqAjdw0E4-8mjGl3wVA</td>\n",
       "      <td>Crossfit Terminus</td>\n",
       "      <td>1046 Memorial Dr SE</td>\n",
       "      <td>Atlanta</td>\n",
       "      <td>GA</td>\n",
       "      <td>30316</td>\n",
       "      <td>33.747027</td>\n",
       "      <td>-84.353424</td>\n",
       "      <td>4.0</td>\n",
       "      <td>14</td>\n",
       "      <td>1</td>\n",
       "      <td>{'GoodForKids': 'False', 'BusinessParking': '{...</td>\n",
       "      <td>Gyms, Active Life, Interval Training Gyms, Fit...</td>\n",
       "      <td>{'Monday': '16:0-19:0', 'Tuesday': '16:0-19:0'...</td>\n",
       "    </tr>\n",
       "  </tbody>\n",
       "</table>\n",
       "</div>"
      ],
      "text/plain": [
       "              business_id                     name              address  \\\n",
       "0  6iYb2HFDywm3zjuRg0shjw      Oskar Blues Taproom         921 Pearl St   \n",
       "1  tCbdrRPZA0oiIYSmHG3J0w  Flying Elephants at PDX  7000 NE Airport Way   \n",
       "2  bvN78flM8NLprQ1a1y5dRg           The Reclaimory   4720 Hawthorne Ave   \n",
       "3  oaepsyvc0J17qwi8cfrOWg              Great Clips   2566 Enterprise Rd   \n",
       "4  PE9uqAjdw0E4-8mjGl3wVA        Crossfit Terminus  1046 Memorial Dr SE   \n",
       "\n",
       "          city state postal_code   latitude   longitude  stars  review_count  \\\n",
       "0      Boulder    CO       80302  40.017544 -105.283348    4.0            86   \n",
       "1     Portland    OR       97218  45.588906 -122.593331    4.0           126   \n",
       "2     Portland    OR       97214  45.511907 -122.613693    4.5            13   \n",
       "3  Orange City    FL       32763  28.914482  -81.295979    3.0             8   \n",
       "4      Atlanta    GA       30316  33.747027  -84.353424    4.0            14   \n",
       "\n",
       "   is_open                                         attributes  \\\n",
       "0        1  {'RestaurantsTableService': 'True', 'WiFi': 'u...   \n",
       "1        1  {'RestaurantsTakeOut': 'True', 'RestaurantsAtt...   \n",
       "2        1  {'BusinessAcceptsCreditCards': 'True', 'Restau...   \n",
       "3        1  {'RestaurantsPriceRange2': '1', 'BusinessAccep...   \n",
       "4        1  {'GoodForKids': 'False', 'BusinessParking': '{...   \n",
       "\n",
       "                                          categories  \\\n",
       "0  Gastropubs, Food, Beer Gardens, Restaurants, B...   \n",
       "1  Salad, Soup, Sandwiches, Delis, Restaurants, C...   \n",
       "2  Antiques, Fashion, Used, Vintage & Consignment...   \n",
       "3                         Beauty & Spas, Hair Salons   \n",
       "4  Gyms, Active Life, Interval Training Gyms, Fit...   \n",
       "\n",
       "                                               hours  \n",
       "0  {'Monday': '11:0-23:0', 'Tuesday': '11:0-23:0'...  \n",
       "1  {'Monday': '5:0-18:0', 'Tuesday': '5:0-17:0', ...  \n",
       "2  {'Thursday': '11:0-18:0', 'Friday': '11:0-18:0...  \n",
       "3                                               None  \n",
       "4  {'Monday': '16:0-19:0', 'Tuesday': '16:0-19:0'...  "
      ]
     },
     "execution_count": 8,
     "metadata": {},
     "output_type": "execute_result"
    }
   ],
   "source": [
    "business = pd.read_json(\"yelp_academic_dataset_business.json\",lines=True,orient='records')\n",
    "business.head()"
   ]
  },
  {
   "cell_type": "code",
   "execution_count": 9,
   "id": "23840ea6-0266-4e09-a05d-02f456727a31",
   "metadata": {},
   "outputs": [
    {
     "name": "stdout",
     "output_type": "stream",
     "text": [
      "<class 'pandas.core.frame.DataFrame'>\n",
      "RangeIndex: 160585 entries, 0 to 160584\n",
      "Data columns (total 14 columns):\n",
      " #   Column        Non-Null Count   Dtype  \n",
      "---  ------        --------------   -----  \n",
      " 0   business_id   160585 non-null  object \n",
      " 1   name          160585 non-null  object \n",
      " 2   address       160585 non-null  object \n",
      " 3   city          160585 non-null  object \n",
      " 4   state         160585 non-null  object \n",
      " 5   postal_code   160585 non-null  object \n",
      " 6   latitude      160585 non-null  float64\n",
      " 7   longitude     160585 non-null  float64\n",
      " 8   stars         160585 non-null  float64\n",
      " 9   review_count  160585 non-null  int64  \n",
      " 10  is_open       160585 non-null  int64  \n",
      " 11  attributes    145593 non-null  object \n",
      " 12  categories    160470 non-null  object \n",
      " 13  hours         133244 non-null  object \n",
      "dtypes: float64(3), int64(2), object(9)\n",
      "memory usage: 17.2+ MB\n"
     ]
    }
   ],
   "source": [
    "business.info()"
   ]
  },
  {
   "cell_type": "code",
   "execution_count": 43,
   "id": "2bac3b4e-0d43-4c65-8c5b-4c845b447912",
   "metadata": {},
   "outputs": [
    {
     "data": {
      "text/plain": [
       "'Beauty & Spas, Hair Salons'"
      ]
     },
     "execution_count": 43,
     "metadata": {},
     "output_type": "execute_result"
    }
   ],
   "source": [
    "business.loc[3]['categories']"
   ]
  },
  {
   "cell_type": "markdown",
   "id": "fdc06ecf-5738-4372-b203-b38121984bd9",
   "metadata": {},
   "source": [
    "## 2. Reviews"
   ]
  },
  {
   "cell_type": "code",
   "execution_count": 12,
   "id": "9bbbe1b1-8cc6-4f59-9738-a0f22b98e139",
   "metadata": {},
   "outputs": [],
   "source": [
    "import datetime"
   ]
  },
  {
   "cell_type": "code",
   "execution_count": 17,
   "id": "15a17e0a-5e01-4292-9af0-650a7358663b",
   "metadata": {},
   "outputs": [],
   "source": [
    "limit = datetime.datetime(year=2019,month=1,day=1)"
   ]
  },
  {
   "cell_type": "code",
   "execution_count": 19,
   "id": "85e45881-6dd2-474c-9e42-a306d076886c",
   "metadata": {},
   "outputs": [
    {
     "name": "stdout",
     "output_type": "stream",
     "text": [
      "(0, 9)\n",
      "(0, 9)\n",
      "(0, 9)\n",
      "(0, 9)\n",
      "(2920, 9)\n",
      "(12024, 9)\n",
      "(71650, 9)\n"
     ]
    },
    {
     "ename": "KeyboardInterrupt",
     "evalue": "",
     "output_type": "error",
     "traceback": [
      "\u001b[0;31m---------------------------------------------------------------------------\u001b[0m",
      "\u001b[0;31mKeyboardInterrupt\u001b[0m                         Traceback (most recent call last)",
      "\u001b[0;32m/tmp/ipykernel_23019/1193995690.py\u001b[0m in \u001b[0;36m<module>\u001b[0;34m\u001b[0m\n\u001b[1;32m      1\u001b[0m \u001b[0mdf\u001b[0m\u001b[0;34m=\u001b[0m\u001b[0mpd\u001b[0m\u001b[0;34m.\u001b[0m\u001b[0mDataFrame\u001b[0m\u001b[0;34m(\u001b[0m\u001b[0;34m[\u001b[0m\u001b[0;34m]\u001b[0m\u001b[0;34m)\u001b[0m\u001b[0;34m\u001b[0m\u001b[0;34m\u001b[0m\u001b[0m\n\u001b[0;32m----> 2\u001b[0;31m \u001b[0;32mfor\u001b[0m \u001b[0mchunk\u001b[0m \u001b[0;32min\u001b[0m \u001b[0mpd\u001b[0m\u001b[0;34m.\u001b[0m\u001b[0mread_json\u001b[0m\u001b[0;34m(\u001b[0m\u001b[0;34m\"yelp_academic_dataset_review.json\"\u001b[0m\u001b[0;34m,\u001b[0m\u001b[0mlines\u001b[0m\u001b[0;34m=\u001b[0m\u001b[0;32mTrue\u001b[0m\u001b[0;34m,\u001b[0m\u001b[0morient\u001b[0m\u001b[0;34m=\u001b[0m\u001b[0;34m'records'\u001b[0m\u001b[0;34m,\u001b[0m\u001b[0mchunksize\u001b[0m\u001b[0;34m=\u001b[0m\u001b[0;36m100000\u001b[0m\u001b[0;34m)\u001b[0m\u001b[0;34m:\u001b[0m\u001b[0;34m\u001b[0m\u001b[0;34m\u001b[0m\u001b[0m\n\u001b[0m\u001b[1;32m      3\u001b[0m     \u001b[0mdf\u001b[0m\u001b[0;34m=\u001b[0m\u001b[0mpd\u001b[0m\u001b[0;34m.\u001b[0m\u001b[0mconcat\u001b[0m\u001b[0;34m(\u001b[0m\u001b[0;34m[\u001b[0m\u001b[0mdf\u001b[0m\u001b[0;34m,\u001b[0m\u001b[0mchunk\u001b[0m\u001b[0;34m.\u001b[0m\u001b[0mloc\u001b[0m\u001b[0;34m[\u001b[0m\u001b[0mchunk\u001b[0m\u001b[0;34m.\u001b[0m\u001b[0mdate\u001b[0m\u001b[0;34m>\u001b[0m\u001b[0mlimit\u001b[0m\u001b[0;34m]\u001b[0m\u001b[0;34m]\u001b[0m\u001b[0;34m)\u001b[0m\u001b[0;34m\u001b[0m\u001b[0;34m\u001b[0m\u001b[0m\n\u001b[1;32m      4\u001b[0m     \u001b[0mprint\u001b[0m\u001b[0;34m(\u001b[0m\u001b[0mdf\u001b[0m\u001b[0;34m.\u001b[0m\u001b[0mshape\u001b[0m\u001b[0;34m)\u001b[0m\u001b[0;34m\u001b[0m\u001b[0;34m\u001b[0m\u001b[0m\n",
      "\u001b[0;32m~/.local/lib/python3.9/site-packages/pandas/io/json/_json.py\u001b[0m in \u001b[0;36m__next__\u001b[0;34m(self)\u001b[0m\n\u001b[1;32m    742\u001b[0m         \u001b[0;32mif\u001b[0m \u001b[0mlines\u001b[0m\u001b[0;34m:\u001b[0m\u001b[0;34m\u001b[0m\u001b[0;34m\u001b[0m\u001b[0m\n\u001b[1;32m    743\u001b[0m             \u001b[0mlines_json\u001b[0m \u001b[0;34m=\u001b[0m \u001b[0mself\u001b[0m\u001b[0;34m.\u001b[0m\u001b[0m_combine_lines\u001b[0m\u001b[0;34m(\u001b[0m\u001b[0mlines\u001b[0m\u001b[0;34m)\u001b[0m\u001b[0;34m\u001b[0m\u001b[0;34m\u001b[0m\u001b[0m\n\u001b[0;32m--> 744\u001b[0;31m             \u001b[0mobj\u001b[0m \u001b[0;34m=\u001b[0m \u001b[0mself\u001b[0m\u001b[0;34m.\u001b[0m\u001b[0m_get_object_parser\u001b[0m\u001b[0;34m(\u001b[0m\u001b[0mlines_json\u001b[0m\u001b[0;34m)\u001b[0m\u001b[0;34m\u001b[0m\u001b[0;34m\u001b[0m\u001b[0m\n\u001b[0m\u001b[1;32m    745\u001b[0m \u001b[0;34m\u001b[0m\u001b[0m\n\u001b[1;32m    746\u001b[0m             \u001b[0;31m# Make sure that the returned objects have the right index.\u001b[0m\u001b[0;34m\u001b[0m\u001b[0;34m\u001b[0m\u001b[0;34m\u001b[0m\u001b[0m\n",
      "\u001b[0;32m~/.local/lib/python3.9/site-packages/pandas/io/json/_json.py\u001b[0m in \u001b[0;36m_get_object_parser\u001b[0;34m(self, json)\u001b[0m\n\u001b[1;32m    714\u001b[0m         \u001b[0mobj\u001b[0m \u001b[0;34m=\u001b[0m \u001b[0;32mNone\u001b[0m\u001b[0;34m\u001b[0m\u001b[0;34m\u001b[0m\u001b[0m\n\u001b[1;32m    715\u001b[0m         \u001b[0;32mif\u001b[0m \u001b[0mtyp\u001b[0m \u001b[0;34m==\u001b[0m \u001b[0;34m\"frame\"\u001b[0m\u001b[0;34m:\u001b[0m\u001b[0;34m\u001b[0m\u001b[0;34m\u001b[0m\u001b[0m\n\u001b[0;32m--> 716\u001b[0;31m             \u001b[0mobj\u001b[0m \u001b[0;34m=\u001b[0m \u001b[0mFrameParser\u001b[0m\u001b[0;34m(\u001b[0m\u001b[0mjson\u001b[0m\u001b[0;34m,\u001b[0m \u001b[0;34m**\u001b[0m\u001b[0mkwargs\u001b[0m\u001b[0;34m)\u001b[0m\u001b[0;34m.\u001b[0m\u001b[0mparse\u001b[0m\u001b[0;34m(\u001b[0m\u001b[0;34m)\u001b[0m\u001b[0;34m\u001b[0m\u001b[0;34m\u001b[0m\u001b[0m\n\u001b[0m\u001b[1;32m    717\u001b[0m \u001b[0;34m\u001b[0m\u001b[0m\n\u001b[1;32m    718\u001b[0m         \u001b[0;32mif\u001b[0m \u001b[0mtyp\u001b[0m \u001b[0;34m==\u001b[0m \u001b[0;34m\"series\"\u001b[0m \u001b[0;32mor\u001b[0m \u001b[0mobj\u001b[0m \u001b[0;32mis\u001b[0m \u001b[0;32mNone\u001b[0m\u001b[0;34m:\u001b[0m\u001b[0;34m\u001b[0m\u001b[0;34m\u001b[0m\u001b[0m\n",
      "\u001b[0;32m~/.local/lib/python3.9/site-packages/pandas/io/json/_json.py\u001b[0m in \u001b[0;36mparse\u001b[0;34m(self)\u001b[0m\n\u001b[1;32m    829\u001b[0m \u001b[0;34m\u001b[0m\u001b[0m\n\u001b[1;32m    830\u001b[0m         \u001b[0;32melse\u001b[0m\u001b[0;34m:\u001b[0m\u001b[0;34m\u001b[0m\u001b[0;34m\u001b[0m\u001b[0m\n\u001b[0;32m--> 831\u001b[0;31m             \u001b[0mself\u001b[0m\u001b[0;34m.\u001b[0m\u001b[0m_parse_no_numpy\u001b[0m\u001b[0;34m(\u001b[0m\u001b[0;34m)\u001b[0m\u001b[0;34m\u001b[0m\u001b[0;34m\u001b[0m\u001b[0m\n\u001b[0m\u001b[1;32m    832\u001b[0m \u001b[0;34m\u001b[0m\u001b[0m\n\u001b[1;32m    833\u001b[0m         \u001b[0;32mif\u001b[0m \u001b[0mself\u001b[0m\u001b[0;34m.\u001b[0m\u001b[0mobj\u001b[0m \u001b[0;32mis\u001b[0m \u001b[0;32mNone\u001b[0m\u001b[0;34m:\u001b[0m\u001b[0;34m\u001b[0m\u001b[0;34m\u001b[0m\u001b[0m\n",
      "\u001b[0;32m~/.local/lib/python3.9/site-packages/pandas/io/json/_json.py\u001b[0m in \u001b[0;36m_parse_no_numpy\u001b[0;34m(self)\u001b[0m\n\u001b[1;32m   1096\u001b[0m         \u001b[0;32melse\u001b[0m\u001b[0;34m:\u001b[0m\u001b[0;34m\u001b[0m\u001b[0;34m\u001b[0m\u001b[0m\n\u001b[1;32m   1097\u001b[0m             self.obj = DataFrame(\n\u001b[0;32m-> 1098\u001b[0;31m                 \u001b[0mloads\u001b[0m\u001b[0;34m(\u001b[0m\u001b[0mjson\u001b[0m\u001b[0;34m,\u001b[0m \u001b[0mprecise_float\u001b[0m\u001b[0;34m=\u001b[0m\u001b[0mself\u001b[0m\u001b[0;34m.\u001b[0m\u001b[0mprecise_float\u001b[0m\u001b[0;34m)\u001b[0m\u001b[0;34m,\u001b[0m \u001b[0mdtype\u001b[0m\u001b[0;34m=\u001b[0m\u001b[0;32mNone\u001b[0m\u001b[0;34m\u001b[0m\u001b[0;34m\u001b[0m\u001b[0m\n\u001b[0m\u001b[1;32m   1099\u001b[0m             )\n\u001b[1;32m   1100\u001b[0m \u001b[0;34m\u001b[0m\u001b[0m\n",
      "\u001b[0;31mKeyboardInterrupt\u001b[0m: "
     ]
    }
   ],
   "source": [
    "df=pd.DataFrame([])\n",
    "for chunk in pd.read_json(\"yelp_academic_dataset_review.json\",lines=True,orient='records',chunksize=100000):\n",
    "    df=pd.concat([df,chunk.loc[chunk.date>limit]])\n",
    "    print(df.shape)"
   ]
  },
  {
   "cell_type": "code",
   "execution_count": 20,
   "id": "421aa1af-a298-46b2-9d58-508143d5eeff",
   "metadata": {},
   "outputs": [
    {
     "name": "stdout",
     "output_type": "stream",
     "text": [
      "<class 'pandas.core.frame.DataFrame'>\n",
      "Int64Index: 71650 entries, 410008 to 699997\n",
      "Data columns (total 9 columns):\n",
      " #   Column       Non-Null Count  Dtype         \n",
      "---  ------       --------------  -----         \n",
      " 0   review_id    71650 non-null  object        \n",
      " 1   user_id      71650 non-null  object        \n",
      " 2   business_id  71650 non-null  object        \n",
      " 3   stars        71650 non-null  int64         \n",
      " 4   useful       71650 non-null  int64         \n",
      " 5   funny        71650 non-null  int64         \n",
      " 6   cool         71650 non-null  int64         \n",
      " 7   text         71650 non-null  object        \n",
      " 8   date         71650 non-null  datetime64[ns]\n",
      "dtypes: datetime64[ns](1), int64(4), object(4)\n",
      "memory usage: 5.5+ MB\n"
     ]
    }
   ],
   "source": [
    "df.info()"
   ]
  },
  {
   "cell_type": "code",
   "execution_count": 21,
   "id": "45fb1c83-c93d-4677-94bf-14f5844170d1",
   "metadata": {},
   "outputs": [],
   "source": [
    "df.to_csv('yelp_reviews_small.csv')"
   ]
  },
  {
   "cell_type": "code",
   "execution_count": null,
   "id": "b387a78d-733c-47c5-966d-4ef6edaddf21",
   "metadata": {},
   "outputs": [],
   "source": []
  },
  {
   "cell_type": "code",
   "execution_count": 51,
   "id": "158830e9-1007-482f-9d8c-2c5e71026f9b",
   "metadata": {},
   "outputs": [
    {
     "name": "stdout",
     "output_type": "stream",
     "text": [
      "<class 'pandas.core.frame.DataFrame'>\n",
      "RangeIndex: 100000 entries, 0 to 99999\n",
      "Data columns (total 9 columns):\n",
      " #   Column       Non-Null Count   Dtype         \n",
      "---  ------       --------------   -----         \n",
      " 0   review_id    100000 non-null  object        \n",
      " 1   user_id      100000 non-null  object        \n",
      " 2   business_id  100000 non-null  object        \n",
      " 3   stars        100000 non-null  int64         \n",
      " 4   useful       100000 non-null  int64         \n",
      " 5   funny        100000 non-null  int64         \n",
      " 6   cool         100000 non-null  int64         \n",
      " 7   text         100000 non-null  object        \n",
      " 8   date         100000 non-null  datetime64[ns]\n",
      "dtypes: datetime64[ns](1), int64(4), object(4)\n",
      "memory usage: 6.9+ MB\n"
     ]
    }
   ],
   "source": [
    "reviews.info()"
   ]
  },
  {
   "cell_type": "code",
   "execution_count": 52,
   "id": "c921a4d2-4b29-42b9-b5d0-0642ee6312b6",
   "metadata": {},
   "outputs": [
    {
     "data": {
      "text/html": [
       "<div>\n",
       "<style scoped>\n",
       "    .dataframe tbody tr th:only-of-type {\n",
       "        vertical-align: middle;\n",
       "    }\n",
       "\n",
       "    .dataframe tbody tr th {\n",
       "        vertical-align: top;\n",
       "    }\n",
       "\n",
       "    .dataframe thead th {\n",
       "        text-align: right;\n",
       "    }\n",
       "</style>\n",
       "<table border=\"1\" class=\"dataframe\">\n",
       "  <thead>\n",
       "    <tr style=\"text-align: right;\">\n",
       "      <th></th>\n",
       "      <th>review_id</th>\n",
       "      <th>user_id</th>\n",
       "      <th>business_id</th>\n",
       "      <th>stars</th>\n",
       "      <th>useful</th>\n",
       "      <th>funny</th>\n",
       "      <th>cool</th>\n",
       "      <th>text</th>\n",
       "      <th>date</th>\n",
       "    </tr>\n",
       "  </thead>\n",
       "  <tbody>\n",
       "    <tr>\n",
       "      <th>0</th>\n",
       "      <td>lWC-xP3rd6obsecCYsGZRg</td>\n",
       "      <td>ak0TdVmGKo4pwqdJSTLwWw</td>\n",
       "      <td>buF9druCkbuXLX526sGELQ</td>\n",
       "      <td>4</td>\n",
       "      <td>3</td>\n",
       "      <td>1</td>\n",
       "      <td>1</td>\n",
       "      <td>Apparently Prides Osteria had a rough summer a...</td>\n",
       "      <td>2014-10-11 03:34:02</td>\n",
       "    </tr>\n",
       "    <tr>\n",
       "      <th>1</th>\n",
       "      <td>8bFej1QE5LXp4O05qjGqXA</td>\n",
       "      <td>YoVfDbnISlW0f7abNQACIg</td>\n",
       "      <td>RA4V8pr014UyUbDvI-LW2A</td>\n",
       "      <td>4</td>\n",
       "      <td>1</td>\n",
       "      <td>0</td>\n",
       "      <td>0</td>\n",
       "      <td>This store is pretty good. Not as great as Wal...</td>\n",
       "      <td>2015-07-03 20:38:25</td>\n",
       "    </tr>\n",
       "    <tr>\n",
       "      <th>2</th>\n",
       "      <td>NDhkzczKjLshODbqDoNLSg</td>\n",
       "      <td>eC5evKn1TWDyHCyQAwguUw</td>\n",
       "      <td>_sS2LBIGNT5NQb6PD1Vtjw</td>\n",
       "      <td>5</td>\n",
       "      <td>0</td>\n",
       "      <td>0</td>\n",
       "      <td>0</td>\n",
       "      <td>I called WVM on the recommendation of a couple...</td>\n",
       "      <td>2013-05-28 20:38:06</td>\n",
       "    </tr>\n",
       "  </tbody>\n",
       "</table>\n",
       "</div>"
      ],
      "text/plain": [
       "                review_id                 user_id             business_id  \\\n",
       "0  lWC-xP3rd6obsecCYsGZRg  ak0TdVmGKo4pwqdJSTLwWw  buF9druCkbuXLX526sGELQ   \n",
       "1  8bFej1QE5LXp4O05qjGqXA  YoVfDbnISlW0f7abNQACIg  RA4V8pr014UyUbDvI-LW2A   \n",
       "2  NDhkzczKjLshODbqDoNLSg  eC5evKn1TWDyHCyQAwguUw  _sS2LBIGNT5NQb6PD1Vtjw   \n",
       "\n",
       "   stars  useful  funny  cool  \\\n",
       "0      4       3      1     1   \n",
       "1      4       1      0     0   \n",
       "2      5       0      0     0   \n",
       "\n",
       "                                                text                date  \n",
       "0  Apparently Prides Osteria had a rough summer a... 2014-10-11 03:34:02  \n",
       "1  This store is pretty good. Not as great as Wal... 2015-07-03 20:38:25  \n",
       "2  I called WVM on the recommendation of a couple... 2013-05-28 20:38:06  "
      ]
     },
     "execution_count": 52,
     "metadata": {},
     "output_type": "execute_result"
    }
   ],
   "source": [
    "reviews.head(3)"
   ]
  },
  {
   "cell_type": "code",
   "execution_count": 17,
   "id": "e72ff5be-4095-401f-9bb8-1b5db5ab989a",
   "metadata": {},
   "outputs": [
    {
     "data": {
      "text/html": [
       "<div>\n",
       "<style scoped>\n",
       "    .dataframe tbody tr th:only-of-type {\n",
       "        vertical-align: middle;\n",
       "    }\n",
       "\n",
       "    .dataframe tbody tr th {\n",
       "        vertical-align: top;\n",
       "    }\n",
       "\n",
       "    .dataframe thead th {\n",
       "        text-align: right;\n",
       "    }\n",
       "</style>\n",
       "<table border=\"1\" class=\"dataframe\">\n",
       "  <thead>\n",
       "    <tr style=\"text-align: right;\">\n",
       "      <th></th>\n",
       "      <th>stars</th>\n",
       "      <th>useful</th>\n",
       "      <th>funny</th>\n",
       "      <th>cool</th>\n",
       "    </tr>\n",
       "  </thead>\n",
       "  <tbody>\n",
       "    <tr>\n",
       "      <th>count</th>\n",
       "      <td>10000.000000</td>\n",
       "      <td>10000.000000</td>\n",
       "      <td>10000.000000</td>\n",
       "      <td>10000.000000</td>\n",
       "    </tr>\n",
       "    <tr>\n",
       "      <th>mean</th>\n",
       "      <td>3.773000</td>\n",
       "      <td>1.004700</td>\n",
       "      <td>0.323300</td>\n",
       "      <td>0.379000</td>\n",
       "    </tr>\n",
       "    <tr>\n",
       "      <th>std</th>\n",
       "      <td>1.376031</td>\n",
       "      <td>2.118803</td>\n",
       "      <td>1.130356</td>\n",
       "      <td>1.238916</td>\n",
       "    </tr>\n",
       "    <tr>\n",
       "      <th>min</th>\n",
       "      <td>1.000000</td>\n",
       "      <td>0.000000</td>\n",
       "      <td>0.000000</td>\n",
       "      <td>0.000000</td>\n",
       "    </tr>\n",
       "    <tr>\n",
       "      <th>25%</th>\n",
       "      <td>3.000000</td>\n",
       "      <td>0.000000</td>\n",
       "      <td>0.000000</td>\n",
       "      <td>0.000000</td>\n",
       "    </tr>\n",
       "    <tr>\n",
       "      <th>50%</th>\n",
       "      <td>4.000000</td>\n",
       "      <td>0.000000</td>\n",
       "      <td>0.000000</td>\n",
       "      <td>0.000000</td>\n",
       "    </tr>\n",
       "    <tr>\n",
       "      <th>75%</th>\n",
       "      <td>5.000000</td>\n",
       "      <td>1.000000</td>\n",
       "      <td>0.000000</td>\n",
       "      <td>0.000000</td>\n",
       "    </tr>\n",
       "    <tr>\n",
       "      <th>max</th>\n",
       "      <td>5.000000</td>\n",
       "      <td>49.000000</td>\n",
       "      <td>27.000000</td>\n",
       "      <td>34.000000</td>\n",
       "    </tr>\n",
       "  </tbody>\n",
       "</table>\n",
       "</div>"
      ],
      "text/plain": [
       "              stars        useful         funny          cool\n",
       "count  10000.000000  10000.000000  10000.000000  10000.000000\n",
       "mean       3.773000      1.004700      0.323300      0.379000\n",
       "std        1.376031      2.118803      1.130356      1.238916\n",
       "min        1.000000      0.000000      0.000000      0.000000\n",
       "25%        3.000000      0.000000      0.000000      0.000000\n",
       "50%        4.000000      0.000000      0.000000      0.000000\n",
       "75%        5.000000      1.000000      0.000000      0.000000\n",
       "max        5.000000     49.000000     27.000000     34.000000"
      ]
     },
     "execution_count": 17,
     "metadata": {},
     "output_type": "execute_result"
    }
   ],
   "source": [
    "reviews.describe()"
   ]
  },
  {
   "cell_type": "code",
   "execution_count": 45,
   "id": "e3dc79df-d3e9-462b-8051-81d2083a51f7",
   "metadata": {},
   "outputs": [
    {
     "data": {
      "text/plain": [
       "<AxesSubplot:>"
      ]
     },
     "execution_count": 45,
     "metadata": {},
     "output_type": "execute_result"
    },
    {
     "data": {
      "image/png": "[encoded data removed]",
      "text/plain": [
       "<Figure size 432x288 with 1 Axes>"
      ]
     },
     "metadata": {
      "needs_background": "light"
     },
     "output_type": "display_data"
    }
   ],
   "source": [
    "reviews.stars.hist()"
   ]
  },
  {
   "cell_type": "code",
   "execution_count": 49,
   "id": "45a8dc2d-c818-44bf-8a34-a66db98dd920",
   "metadata": {},
   "outputs": [
    {
     "data": {
      "text/plain": [
       "<AxesSubplot:>"
      ]
     },
     "execution_count": 49,
     "metadata": {},
     "output_type": "execute_result"
    },
    {
     "data": {
      "image/png": "[encoded data removed]",
      "text/plain": [
       "<Figure size 432x288 with 1 Axes>"
      ]
     },
     "metadata": {
      "needs_background": "light"
     },
     "output_type": "display_data"
    }
   ],
   "source": [
    "#reviews.useful.hist()\n",
    "reviews.loc[reviews.useful<2].useful.hist()"
   ]
  },
  {
   "cell_type": "code",
   "execution_count": 41,
   "id": "1547053a-ed4e-47be-b3d6-48bee27e5e73",
   "metadata": {},
   "outputs": [
    {
     "data": {
      "text/plain": [
       "<AxesSubplot:>"
      ]
     },
     "execution_count": 41,
     "metadata": {},
     "output_type": "execute_result"
    },
    {
     "data": {
      "image/png": "[encoded data removed]",
      "text/plain": [
       "<Figure size 432x288 with 1 Axes>"
      ]
     },
     "metadata": {
      "needs_background": "light"
     },
     "output_type": "display_data"
    }
   ],
   "source": [
    "#reviews.funny.hist()\n",
    "reviews.loc[reviews.funny<2].funny.hist()"
   ]
  },
  {
   "cell_type": "code",
   "execution_count": 40,
   "id": "8cf87383-90cc-4f38-9ff0-228631c0e38f",
   "metadata": {},
   "outputs": [
    {
     "data": {
      "text/plain": [
       "<AxesSubplot:>"
      ]
     },
     "execution_count": 40,
     "metadata": {},
     "output_type": "execute_result"
    },
    {
     "data": {
      "image/png": "[encoded data removed]",
      "text/plain": [
       "<Figure size 432x288 with 1 Axes>"
      ]
     },
     "metadata": {
      "needs_background": "light"
     },
     "output_type": "display_data"
    }
   ],
   "source": [
    "#reviews.cool.hist()\n",
    "reviews.loc[reviews.cool<2].cool.hist()"
   ]
  },
  {
   "cell_type": "markdown",
   "id": "df152189-9c98-4fb4-a9d9-5dfcc3f197ca",
   "metadata": {},
   "source": [
    "## 3. Tip Dataset"
   ]
  },
  {
   "cell_type": "code",
   "execution_count": 13,
   "id": "0319727d-9378-4d33-b3b8-6b36b622f825",
   "metadata": {},
   "outputs": [
    {
     "data": {
      "text/html": [
       "<div>\n",
       "<style scoped>\n",
       "    .dataframe tbody tr th:only-of-type {\n",
       "        vertical-align: middle;\n",
       "    }\n",
       "\n",
       "    .dataframe tbody tr th {\n",
       "        vertical-align: top;\n",
       "    }\n",
       "\n",
       "    .dataframe thead th {\n",
       "        text-align: right;\n",
       "    }\n",
       "</style>\n",
       "<table border=\"1\" class=\"dataframe\">\n",
       "  <thead>\n",
       "    <tr style=\"text-align: right;\">\n",
       "      <th></th>\n",
       "      <th>user_id</th>\n",
       "      <th>business_id</th>\n",
       "      <th>text</th>\n",
       "      <th>date</th>\n",
       "      <th>compliment_count</th>\n",
       "    </tr>\n",
       "  </thead>\n",
       "  <tbody>\n",
       "    <tr>\n",
       "      <th>0</th>\n",
       "      <td>WCjg0jdHXMlwbqS9tZUx8Q</td>\n",
       "      <td>ENwBByjpoa5Gg7tKgxqwLg</td>\n",
       "      <td>Carne asada chips...</td>\n",
       "      <td>2011-07-22 19:07:35</td>\n",
       "      <td>0</td>\n",
       "    </tr>\n",
       "    <tr>\n",
       "      <th>1</th>\n",
       "      <td>42-Z02y9bABShAGZhuSzrQ</td>\n",
       "      <td>jKO4Og6ucdX2-YCTKQVYjg</td>\n",
       "      <td>Best happy hour from 3pm to 6pm! $1 off martin...</td>\n",
       "      <td>2014-09-10 07:33:29</td>\n",
       "      <td>0</td>\n",
       "    </tr>\n",
       "    <tr>\n",
       "      <th>2</th>\n",
       "      <td>5u7E3LYp_3eB8dLuUBazXQ</td>\n",
       "      <td>9Bto7mky640ocgezVKSfVg</td>\n",
       "      <td>Nice people, skilled staff, clean location - b...</td>\n",
       "      <td>2013-12-13 23:23:41</td>\n",
       "      <td>0</td>\n",
       "    </tr>\n",
       "    <tr>\n",
       "      <th>3</th>\n",
       "      <td>wDWoMG5N9oI4DJ-p7z8EBg</td>\n",
       "      <td>XWFjKtRGZ9khRGtGg2ZvaA</td>\n",
       "      <td>1/2-price bowling &amp; the \"Very\" Old Fashion are...</td>\n",
       "      <td>2017-07-11 23:07:16</td>\n",
       "      <td>0</td>\n",
       "    </tr>\n",
       "    <tr>\n",
       "      <th>4</th>\n",
       "      <td>JmuFlorjjRshHTKzTwNtgg</td>\n",
       "      <td>mkrx0VhSMU3p3uhyJGCoWA</td>\n",
       "      <td>Solid gold's. Great sauna. Great staff, too. E...</td>\n",
       "      <td>2016-11-30 08:46:36</td>\n",
       "      <td>0</td>\n",
       "    </tr>\n",
       "  </tbody>\n",
       "</table>\n",
       "</div>"
      ],
      "text/plain": [
       "                  user_id             business_id  \\\n",
       "0  WCjg0jdHXMlwbqS9tZUx8Q  ENwBByjpoa5Gg7tKgxqwLg   \n",
       "1  42-Z02y9bABShAGZhuSzrQ  jKO4Og6ucdX2-YCTKQVYjg   \n",
       "2  5u7E3LYp_3eB8dLuUBazXQ  9Bto7mky640ocgezVKSfVg   \n",
       "3  wDWoMG5N9oI4DJ-p7z8EBg  XWFjKtRGZ9khRGtGg2ZvaA   \n",
       "4  JmuFlorjjRshHTKzTwNtgg  mkrx0VhSMU3p3uhyJGCoWA   \n",
       "\n",
       "                                                text                date  \\\n",
       "0                               Carne asada chips... 2011-07-22 19:07:35   \n",
       "1  Best happy hour from 3pm to 6pm! $1 off martin... 2014-09-10 07:33:29   \n",
       "2  Nice people, skilled staff, clean location - b... 2013-12-13 23:23:41   \n",
       "3  1/2-price bowling & the \"Very\" Old Fashion are... 2017-07-11 23:07:16   \n",
       "4  Solid gold's. Great sauna. Great staff, too. E... 2016-11-30 08:46:36   \n",
       "\n",
       "   compliment_count  \n",
       "0                 0  \n",
       "1                 0  \n",
       "2                 0  \n",
       "3                 0  \n",
       "4                 0  "
      ]
     },
     "execution_count": 13,
     "metadata": {},
     "output_type": "execute_result"
    }
   ],
   "source": [
    "tip = pd.read_json(\"yelp_academic_dataset_tip.json\",lines=True,orient='records')\n",
    "tip.head()"
   ]
  },
  {
   "cell_type": "code",
   "execution_count": 14,
   "id": "6bae385d-f91b-4c9e-b3f2-55d389dc1962",
   "metadata": {},
   "outputs": [
    {
     "name": "stdout",
     "output_type": "stream",
     "text": [
      "<class 'pandas.core.frame.DataFrame'>\n",
      "RangeIndex: 1162119 entries, 0 to 1162118\n",
      "Data columns (total 5 columns):\n",
      " #   Column            Non-Null Count    Dtype         \n",
      "---  ------            --------------    -----         \n",
      " 0   user_id           1162119 non-null  object        \n",
      " 1   business_id       1162119 non-null  object        \n",
      " 2   text              1162119 non-null  object        \n",
      " 3   date              1162119 non-null  datetime64[ns]\n",
      " 4   compliment_count  1162119 non-null  int64         \n",
      "dtypes: datetime64[ns](1), int64(1), object(3)\n",
      "memory usage: 44.3+ MB\n"
     ]
    }
   ],
   "source": [
    "tip.info()"
   ]
  },
  {
   "cell_type": "markdown",
   "id": "6f9fee09-2300-484b-bbb3-0e02d43adaf1",
   "metadata": {},
   "source": [
    "## 4. Users Data"
   ]
  },
  {
   "cell_type": "code",
   "execution_count": 15,
   "id": "90929a95-043c-47d8-b516-a22b9b616f9e",
   "metadata": {},
   "outputs": [
    {
     "data": {
      "text/html": [
       "<div>\n",
       "<style scoped>\n",
       "    .dataframe tbody tr th:only-of-type {\n",
       "        vertical-align: middle;\n",
       "    }\n",
       "\n",
       "    .dataframe tbody tr th {\n",
       "        vertical-align: top;\n",
       "    }\n",
       "\n",
       "    .dataframe thead th {\n",
       "        text-align: right;\n",
       "    }\n",
       "</style>\n",
       "<table border=\"1\" class=\"dataframe\">\n",
       "  <thead>\n",
       "    <tr style=\"text-align: right;\">\n",
       "      <th></th>\n",
       "      <th>user_id</th>\n",
       "      <th>name</th>\n",
       "      <th>review_count</th>\n",
       "      <th>yelping_since</th>\n",
       "      <th>useful</th>\n",
       "      <th>funny</th>\n",
       "      <th>cool</th>\n",
       "      <th>elite</th>\n",
       "      <th>friends</th>\n",
       "      <th>fans</th>\n",
       "      <th>...</th>\n",
       "      <th>compliment_more</th>\n",
       "      <th>compliment_profile</th>\n",
       "      <th>compliment_cute</th>\n",
       "      <th>compliment_list</th>\n",
       "      <th>compliment_note</th>\n",
       "      <th>compliment_plain</th>\n",
       "      <th>compliment_cool</th>\n",
       "      <th>compliment_funny</th>\n",
       "      <th>compliment_writer</th>\n",
       "      <th>compliment_photos</th>\n",
       "    </tr>\n",
       "  </thead>\n",
       "  <tbody>\n",
       "    <tr>\n",
       "      <th>0</th>\n",
       "      <td>q_QQ5kBBwlCcbL1s4NVK3g</td>\n",
       "      <td>Jane</td>\n",
       "      <td>1220</td>\n",
       "      <td>2005-03-14 20:26:35</td>\n",
       "      <td>15038</td>\n",
       "      <td>10030</td>\n",
       "      <td>11291</td>\n",
       "      <td>2006,2007,2008,2009,2010,2011,2012,2013,2014</td>\n",
       "      <td>xBDpTUbai0DXrvxCe3X16Q, 7GPNBO496aecrjJfW6UWtg...</td>\n",
       "      <td>1357</td>\n",
       "      <td>...</td>\n",
       "      <td>163</td>\n",
       "      <td>190</td>\n",
       "      <td>361</td>\n",
       "      <td>147</td>\n",
       "      <td>1212</td>\n",
       "      <td>5691</td>\n",
       "      <td>2541</td>\n",
       "      <td>2541</td>\n",
       "      <td>815</td>\n",
       "      <td>323</td>\n",
       "    </tr>\n",
       "    <tr>\n",
       "      <th>1</th>\n",
       "      <td>dIIKEfOgo0KqUfGQvGikPg</td>\n",
       "      <td>Gabi</td>\n",
       "      <td>2136</td>\n",
       "      <td>2007-08-10 19:01:51</td>\n",
       "      <td>21272</td>\n",
       "      <td>10289</td>\n",
       "      <td>18046</td>\n",
       "      <td>2007,2008,2009,2010,2011,2012,2013,2014,2015,2...</td>\n",
       "      <td>XPzYf9_mwG2eXYP2BAGSTA, 2LooM5dcIk2o01nftYdPIg...</td>\n",
       "      <td>1025</td>\n",
       "      <td>...</td>\n",
       "      <td>87</td>\n",
       "      <td>94</td>\n",
       "      <td>232</td>\n",
       "      <td>96</td>\n",
       "      <td>1187</td>\n",
       "      <td>3293</td>\n",
       "      <td>2205</td>\n",
       "      <td>2205</td>\n",
       "      <td>472</td>\n",
       "      <td>294</td>\n",
       "    </tr>\n",
       "    <tr>\n",
       "      <th>2</th>\n",
       "      <td>D6ErcUnFALnCQN4b1W_TlA</td>\n",
       "      <td>Jason</td>\n",
       "      <td>119</td>\n",
       "      <td>2007-02-07 15:47:53</td>\n",
       "      <td>188</td>\n",
       "      <td>128</td>\n",
       "      <td>130</td>\n",
       "      <td>2010,2011</td>\n",
       "      <td>GfB6sC4NJQvSI2ewbQrDNA, jhZtzZNNZJOU2YSZ6jPlXQ...</td>\n",
       "      <td>16</td>\n",
       "      <td>...</td>\n",
       "      <td>1</td>\n",
       "      <td>3</td>\n",
       "      <td>0</td>\n",
       "      <td>0</td>\n",
       "      <td>5</td>\n",
       "      <td>20</td>\n",
       "      <td>31</td>\n",
       "      <td>31</td>\n",
       "      <td>3</td>\n",
       "      <td>1</td>\n",
       "    </tr>\n",
       "    <tr>\n",
       "      <th>3</th>\n",
       "      <td>JnPIjvC0cmooNDfsa9BmXg</td>\n",
       "      <td>Kat</td>\n",
       "      <td>987</td>\n",
       "      <td>2009-02-09 16:14:29</td>\n",
       "      <td>7234</td>\n",
       "      <td>4722</td>\n",
       "      <td>4035</td>\n",
       "      <td>2009,2010,2011,2012,2013,2014</td>\n",
       "      <td>HQZPQhKMwRAyS6BCselVWQ, kP2U1s_sjQfHO9grxiyDTA...</td>\n",
       "      <td>420</td>\n",
       "      <td>...</td>\n",
       "      <td>129</td>\n",
       "      <td>93</td>\n",
       "      <td>219</td>\n",
       "      <td>90</td>\n",
       "      <td>1120</td>\n",
       "      <td>4510</td>\n",
       "      <td>1566</td>\n",
       "      <td>1566</td>\n",
       "      <td>391</td>\n",
       "      <td>326</td>\n",
       "    </tr>\n",
       "    <tr>\n",
       "      <th>4</th>\n",
       "      <td>37Hc8hr3cw0iHLoPzLK6Ow</td>\n",
       "      <td>Christine</td>\n",
       "      <td>495</td>\n",
       "      <td>2008-03-03 04:57:05</td>\n",
       "      <td>1577</td>\n",
       "      <td>727</td>\n",
       "      <td>1124</td>\n",
       "      <td>2009,2010,2011</td>\n",
       "      <td>-Q88pZUcrfN0BLBDp-bkAQ, etPn4Pv1Gc4cRZjRgB_BOw...</td>\n",
       "      <td>47</td>\n",
       "      <td>...</td>\n",
       "      <td>19</td>\n",
       "      <td>32</td>\n",
       "      <td>16</td>\n",
       "      <td>15</td>\n",
       "      <td>77</td>\n",
       "      <td>131</td>\n",
       "      <td>310</td>\n",
       "      <td>310</td>\n",
       "      <td>98</td>\n",
       "      <td>44</td>\n",
       "    </tr>\n",
       "  </tbody>\n",
       "</table>\n",
       "<p>5 rows × 22 columns</p>\n",
       "</div>"
      ],
      "text/plain": [
       "                  user_id       name  review_count        yelping_since  \\\n",
       "0  q_QQ5kBBwlCcbL1s4NVK3g       Jane          1220  2005-03-14 20:26:35   \n",
       "1  dIIKEfOgo0KqUfGQvGikPg       Gabi          2136  2007-08-10 19:01:51   \n",
       "2  D6ErcUnFALnCQN4b1W_TlA      Jason           119  2007-02-07 15:47:53   \n",
       "3  JnPIjvC0cmooNDfsa9BmXg        Kat           987  2009-02-09 16:14:29   \n",
       "4  37Hc8hr3cw0iHLoPzLK6Ow  Christine           495  2008-03-03 04:57:05   \n",
       "\n",
       "   useful  funny   cool                                              elite  \\\n",
       "0   15038  10030  11291       2006,2007,2008,2009,2010,2011,2012,2013,2014   \n",
       "1   21272  10289  18046  2007,2008,2009,2010,2011,2012,2013,2014,2015,2...   \n",
       "2     188    128    130                                          2010,2011   \n",
       "3    7234   4722   4035                      2009,2010,2011,2012,2013,2014   \n",
       "4    1577    727   1124                                     2009,2010,2011   \n",
       "\n",
       "                                             friends  fans  ...  \\\n",
       "0  xBDpTUbai0DXrvxCe3X16Q, 7GPNBO496aecrjJfW6UWtg...  1357  ...   \n",
       "1  XPzYf9_mwG2eXYP2BAGSTA, 2LooM5dcIk2o01nftYdPIg...  1025  ...   \n",
       "2  GfB6sC4NJQvSI2ewbQrDNA, jhZtzZNNZJOU2YSZ6jPlXQ...    16  ...   \n",
       "3  HQZPQhKMwRAyS6BCselVWQ, kP2U1s_sjQfHO9grxiyDTA...   420  ...   \n",
       "4  -Q88pZUcrfN0BLBDp-bkAQ, etPn4Pv1Gc4cRZjRgB_BOw...    47  ...   \n",
       "\n",
       "   compliment_more  compliment_profile  compliment_cute  compliment_list  \\\n",
       "0              163                 190              361              147   \n",
       "1               87                  94              232               96   \n",
       "2                1                   3                0                0   \n",
       "3              129                  93              219               90   \n",
       "4               19                  32               16               15   \n",
       "\n",
       "   compliment_note  compliment_plain  compliment_cool  compliment_funny  \\\n",
       "0             1212              5691             2541              2541   \n",
       "1             1187              3293             2205              2205   \n",
       "2                5                20               31                31   \n",
       "3             1120              4510             1566              1566   \n",
       "4               77               131              310               310   \n",
       "\n",
       "   compliment_writer  compliment_photos  \n",
       "0                815                323  \n",
       "1                472                294  \n",
       "2                  3                  1  \n",
       "3                391                326  \n",
       "4                 98                 44  \n",
       "\n",
       "[5 rows x 22 columns]"
      ]
     },
     "execution_count": 15,
     "metadata": {},
     "output_type": "execute_result"
    }
   ],
   "source": [
    "for chunk in pd.read_json(\"yelp_academic_dataset_user.json\",lines=True,orient='records',chunksize=10000):\n",
    "    user = chunk\n",
    "    break\n",
    "user.head()"
   ]
  },
  {
   "cell_type": "code",
   "execution_count": 16,
   "id": "ccee3db7-ea16-4519-b76d-8db10d304d11",
   "metadata": {},
   "outputs": [
    {
     "data": {
      "text/plain": [
       "Index(['user_id', 'name', 'review_count', 'yelping_since', 'useful', 'funny',\n",
       "       'cool', 'elite', 'friends', 'fans', 'average_stars', 'compliment_hot',\n",
       "       'compliment_more', 'compliment_profile', 'compliment_cute',\n",
       "       'compliment_list', 'compliment_note', 'compliment_plain',\n",
       "       'compliment_cool', 'compliment_funny', 'compliment_writer',\n",
       "       'compliment_photos'],\n",
       "      dtype='object')"
      ]
     },
     "execution_count": 16,
     "metadata": {},
     "output_type": "execute_result"
    }
   ],
   "source": [
    "user.columns"
   ]
  },
  {
   "cell_type": "code",
   "execution_count": null,
   "id": "58fe332b-d04e-461a-9a5a-7f29024b9b58",
   "metadata": {},
   "outputs": [],
   "source": []
  }
 ],
 "metadata": {
  "kernelspec": {
   "display_name": "Python 3.9.6 64-bit",
   "language": "python",
   "name": "python396jvsc74a57bd0e7370f93d1d0cde622a1f8e1c04877d8463912d04d973331ad4851f04de6915a"
  },
  "language_info": {
   "codemirror_mode": {
    "name": "ipython",
    "version": 3
   },
   "file_extension": ".py",
   "mimetype": "text/x-python",
   "name": "python",
   "nbconvert_exporter": "python",
   "pygments_lexer": "ipython3",
   "version": "3.9.7"
  }
 },
 "nbformat": 4,
 "nbformat_minor": 5
}
