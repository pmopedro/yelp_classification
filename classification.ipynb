{
 "cells": [
  {
   "cell_type": "code",
   "execution_count": 1,
   "id": "6ea9b6d1-f85d-444e-bcd1-c2313c361068",
   "metadata": {},
   "outputs": [],
   "source": [
    "import pandas as pd\n",
    "from sklearn.manifold import Isomap, TSNE, MDS, LocallyLinearEmbedding\n",
    "from sklearn.preprocessing import LabelEncoder\n",
    "from sklearn.experimental import enable_iterative_imputer\n",
    "from sklearn.impute import IterativeImputer \n",
    "from sklearn.ensemble import RandomForestRegressor, RandomForestClassifier\n",
    "from sklearn.decomposition import PCA\n",
    "from sklearn.preprocessing import StandardScaler\n",
    "from sklearn.neighbors import KNeighborsClassifier\n",
    "from sklearn.datasets import make_blobs\n",
    "from sklearn.ensemble import RandomForestClassifier\n",
    "from sklearn.ensemble import ExtraTreesClassifier\n",
    "from sklearn.tree import DecisionTreeClassifier\n",
    "from sklearn.cluster import KMeans\n",
    "import numpy as np\n",
    "import pandas as pd\n",
    "import json \n",
    "from sklearn.pipeline import Pipeline\n",
    "from sklearn.model_selection import StratifiedKFold, train_test_split\n",
    "from sklearn.metrics import confusion_matrix, classification_report\n",
    "import json\n",
    "from sklearn.feature_extraction.text import CountVectorizer, TfidfTransformer\n",
    "from sklearn.manifold import Isomap, TSNE, MDS, LocallyLinearEmbedding\n",
    "from sklearn.decomposition import PCA\n",
    "from sklearn.preprocessing import StandardScaler\n",
    "from sklearn.neighbors import KNeighborsClassifier\n",
    "from sklearn.cluster import KMeans\n",
    "from sklearn.pipeline import Pipeline\n",
    "from sklearn.model_selection import StratifiedKFold, train_test_split\n",
    "from sklearn.metrics import confusion_matrix, classification_report\n",
    "from sklearn.naive_bayes import MultinomialNB"
   ]
  },
  {
   "cell_type": "code",
   "execution_count": 2,
   "id": "f59d4d5e-6adc-4cca-851e-e9d28f06549b",
   "metadata": {},
   "outputs": [],
   "source": [
    "data = pd.read_json('yelp_reviews_small.json',lines=True)"
   ]
  },
  {
   "cell_type": "code",
   "execution_count": 3,
   "id": "bcdeb767",
   "metadata": {},
   "outputs": [
    {
     "name": "stdout",
     "output_type": "stream",
     "text": [
      "<class 'pandas.core.frame.DataFrame'>\n",
      "RangeIndex: 71315 entries, 0 to 71314\n",
      "Data columns (total 11 columns):\n",
      " #   Column       Non-Null Count  Dtype         \n",
      "---  ------       --------------  -----         \n",
      " 0                71315 non-null  int64         \n",
      " 1   review_id    71315 non-null  object        \n",
      " 2   user_id      71315 non-null  object        \n",
      " 3   business_id  71315 non-null  object        \n",
      " 4   stars        71315 non-null  int64         \n",
      " 5   useful       71315 non-null  int64         \n",
      " 6   funny        71315 non-null  int64         \n",
      " 7   cool         71315 non-null  int64         \n",
      " 8   text         71315 non-null  object        \n",
      " 9   date         71315 non-null  datetime64[ns]\n",
      " 10  features     71315 non-null  object        \n",
      "dtypes: datetime64[ns](1), int64(5), object(5)\n",
      "memory usage: 6.0+ MB\n"
     ]
    }
   ],
   "source": [
    "data.info()"
   ]
  },
  {
   "cell_type": "code",
   "execution_count": 4,
   "id": "031b7aa1-825a-448d-80f9-e17bdcc92390",
   "metadata": {},
   "outputs": [
    {
     "data": {
      "text/html": [
       "<div>\n",
       "<style scoped>\n",
       "    .dataframe tbody tr th:only-of-type {\n",
       "        vertical-align: middle;\n",
       "    }\n",
       "\n",
       "    .dataframe tbody tr th {\n",
       "        vertical-align: top;\n",
       "    }\n",
       "\n",
       "    .dataframe thead th {\n",
       "        text-align: right;\n",
       "    }\n",
       "</style>\n",
       "<table border=\"1\" class=\"dataframe\">\n",
       "  <thead>\n",
       "    <tr style=\"text-align: right;\">\n",
       "      <th></th>\n",
       "      <th></th>\n",
       "      <th>review_id</th>\n",
       "      <th>user_id</th>\n",
       "      <th>business_id</th>\n",
       "      <th>stars</th>\n",
       "      <th>useful</th>\n",
       "      <th>funny</th>\n",
       "      <th>cool</th>\n",
       "      <th>text</th>\n",
       "      <th>date</th>\n",
       "      <th>features</th>\n",
       "    </tr>\n",
       "  </thead>\n",
       "  <tbody>\n",
       "    <tr>\n",
       "      <th>0</th>\n",
       "      <td>613970</td>\n",
       "      <td>m5ecGXbh35Kqh4V9haxicA</td>\n",
       "      <td>OAEV6NodmkIQuBEnGjlPiA</td>\n",
       "      <td>KRNrssbpE1AKo48BIpdLw</td>\n",
       "      <td>5</td>\n",
       "      <td>0</td>\n",
       "      <td>0</td>\n",
       "      <td>0</td>\n",
       "      <td>Best sashimi ever Quality food Good service I ...</td>\n",
       "      <td>2019-01-19 23:22:09</td>\n",
       "      <td>[-0.08915440000000001, 0.36107459999999997, 0....</td>\n",
       "    </tr>\n",
       "    <tr>\n",
       "      <th>1</th>\n",
       "      <td>613971</td>\n",
       "      <td>8F44EKSVg2CvIn0AQf_8A</td>\n",
       "      <td>vBLpG8R3ulwGyomk9ZTtXQ</td>\n",
       "      <td>RHgZxgkzgCkOnz4qNl5Zg</td>\n",
       "      <td>5</td>\n",
       "      <td>0</td>\n",
       "      <td>0</td>\n",
       "      <td>0</td>\n",
       "      <td>Simply Fabulous is the picture of the flowers ...</td>\n",
       "      <td>2019-02-13 13:52:11</td>\n",
       "      <td>[-0.105960484536082, 0.258084360824742, 0.3483...</td>\n",
       "    </tr>\n",
       "    <tr>\n",
       "      <th>2</th>\n",
       "      <td>682814</td>\n",
       "      <td>rSo5E_ATEIqFMXYwBeWj_A</td>\n",
       "      <td>vNhLOpdCRecDih1K9z5smQ</td>\n",
       "      <td>C6QvZLrdEcw3YhKFekFYCw</td>\n",
       "      <td>5</td>\n",
       "      <td>0</td>\n",
       "      <td>0</td>\n",
       "      <td>0</td>\n",
       "      <td>Peace Frog is great\\nThey provide wonderful cu...</td>\n",
       "      <td>2020-10-15 21:15:05</td>\n",
       "      <td>[-0.144226787878787, 0.18622009090909, 0.19586...</td>\n",
       "    </tr>\n",
       "    <tr>\n",
       "      <th>3</th>\n",
       "      <td>682815</td>\n",
       "      <td>1oOOQfdOafD7nmCQdy4CJg</td>\n",
       "      <td>_buzLtGGQr1CdqKgUxgvkw</td>\n",
       "      <td>5wqAfatUT_1WrCjaNBF5A</td>\n",
       "      <td>5</td>\n",
       "      <td>1</td>\n",
       "      <td>0</td>\n",
       "      <td>0</td>\n",
       "      <td>Went in for a Routine Check Up  Noticed How Fa...</td>\n",
       "      <td>2020-02-27 21:51:57</td>\n",
       "      <td>[-0.122542917647058, 0.002868647058823, 0.2630...</td>\n",
       "    </tr>\n",
       "    <tr>\n",
       "      <th>4</th>\n",
       "      <td>613974</td>\n",
       "      <td>FBy9PwmWFf1j7qSGI3fesA</td>\n",
       "      <td>IDebflwD2Hl8mG8oj6DoQg</td>\n",
       "      <td>2hPkrbzphCtP_e2neIyBPg</td>\n",
       "      <td>5</td>\n",
       "      <td>1</td>\n",
       "      <td>0</td>\n",
       "      <td>1</td>\n",
       "      <td>I was a little nervous after reading a few rev...</td>\n",
       "      <td>2019-02-24 06:57:30</td>\n",
       "      <td>[-0.158801581395348, 0.202358209302325, 0.3212...</td>\n",
       "    </tr>\n",
       "  </tbody>\n",
       "</table>\n",
       "</div>"
      ],
      "text/plain": [
       "                        review_id                 user_id  \\\n",
       "0  613970  m5ecGXbh35Kqh4V9haxicA  OAEV6NodmkIQuBEnGjlPiA   \n",
       "1  613971   8F44EKSVg2CvIn0AQf_8A  vBLpG8R3ulwGyomk9ZTtXQ   \n",
       "2  682814  rSo5E_ATEIqFMXYwBeWj_A  vNhLOpdCRecDih1K9z5smQ   \n",
       "3  682815  1oOOQfdOafD7nmCQdy4CJg  _buzLtGGQr1CdqKgUxgvkw   \n",
       "4  613974  FBy9PwmWFf1j7qSGI3fesA  IDebflwD2Hl8mG8oj6DoQg   \n",
       "\n",
       "              business_id  stars  useful  funny  cool  \\\n",
       "0   KRNrssbpE1AKo48BIpdLw      5       0      0     0   \n",
       "1   RHgZxgkzgCkOnz4qNl5Zg      5       0      0     0   \n",
       "2  C6QvZLrdEcw3YhKFekFYCw      5       0      0     0   \n",
       "3   5wqAfatUT_1WrCjaNBF5A      5       1      0     0   \n",
       "4  2hPkrbzphCtP_e2neIyBPg      5       1      0     1   \n",
       "\n",
       "                                                text                date  \\\n",
       "0  Best sashimi ever Quality food Good service I ... 2019-01-19 23:22:09   \n",
       "1  Simply Fabulous is the picture of the flowers ... 2019-02-13 13:52:11   \n",
       "2  Peace Frog is great\\nThey provide wonderful cu... 2020-10-15 21:15:05   \n",
       "3  Went in for a Routine Check Up  Noticed How Fa... 2020-02-27 21:51:57   \n",
       "4  I was a little nervous after reading a few rev... 2019-02-24 06:57:30   \n",
       "\n",
       "                                            features  \n",
       "0  [-0.08915440000000001, 0.36107459999999997, 0....  \n",
       "1  [-0.105960484536082, 0.258084360824742, 0.3483...  \n",
       "2  [-0.144226787878787, 0.18622009090909, 0.19586...  \n",
       "3  [-0.122542917647058, 0.002868647058823, 0.2630...  \n",
       "4  [-0.158801581395348, 0.202358209302325, 0.3212...  "
      ]
     },
     "execution_count": 4,
     "metadata": {},
     "output_type": "execute_result"
    }
   ],
   "source": [
    "data.head()"
   ]
  },
  {
   "cell_type": "markdown",
   "id": "a7f1d045-195a-4140-b51b-f1c5cdfe08e1",
   "metadata": {},
   "source": [
    "## 0. Preprocessing"
   ]
  },
  {
   "cell_type": "code",
   "execution_count": 5,
   "id": "cb0f507c-e5ad-4b8f-b578-3336a0b9f2c8",
   "metadata": {},
   "outputs": [
    {
     "data": {
      "text/html": [
       "<div>\n",
       "<style scoped>\n",
       "    .dataframe tbody tr th:only-of-type {\n",
       "        vertical-align: middle;\n",
       "    }\n",
       "\n",
       "    .dataframe tbody tr th {\n",
       "        vertical-align: top;\n",
       "    }\n",
       "\n",
       "    .dataframe thead th {\n",
       "        text-align: right;\n",
       "    }\n",
       "</style>\n",
       "<table border=\"1\" class=\"dataframe\">\n",
       "  <thead>\n",
       "    <tr style=\"text-align: right;\">\n",
       "      <th></th>\n",
       "      <th>0</th>\n",
       "      <th>1</th>\n",
       "      <th>2</th>\n",
       "      <th>3</th>\n",
       "      <th>4</th>\n",
       "      <th>5</th>\n",
       "      <th>6</th>\n",
       "      <th>7</th>\n",
       "      <th>8</th>\n",
       "      <th>9</th>\n",
       "      <th>...</th>\n",
       "      <th>109</th>\n",
       "      <th>110</th>\n",
       "      <th>111</th>\n",
       "      <th>112</th>\n",
       "      <th>113</th>\n",
       "      <th>114</th>\n",
       "      <th>115</th>\n",
       "      <th>116</th>\n",
       "      <th>117</th>\n",
       "      <th>118</th>\n",
       "    </tr>\n",
       "  </thead>\n",
       "  <tbody>\n",
       "    <tr>\n",
       "      <th>0</th>\n",
       "      <td>-0.089154</td>\n",
       "      <td>0.361075</td>\n",
       "      <td>0.414182</td>\n",
       "      <td>-0.196627</td>\n",
       "      <td>-0.237979</td>\n",
       "      <td>-0.204637</td>\n",
       "      <td>0.038888</td>\n",
       "      <td>0.232156</td>\n",
       "      <td>-0.118301</td>\n",
       "      <td>-0.100396</td>\n",
       "      <td>...</td>\n",
       "      <td>1.345971</td>\n",
       "      <td>0.114815</td>\n",
       "      <td>0.533333</td>\n",
       "      <td>0.257624</td>\n",
       "      <td>0.466667</td>\n",
       "      <td>0.288033</td>\n",
       "      <td>3</td>\n",
       "      <td>0.866667</td>\n",
       "      <td>2.704423</td>\n",
       "      <td>0.133333</td>\n",
       "    </tr>\n",
       "    <tr>\n",
       "      <th>1</th>\n",
       "      <td>-0.105960</td>\n",
       "      <td>0.258084</td>\n",
       "      <td>0.348384</td>\n",
       "      <td>-0.316416</td>\n",
       "      <td>-0.062082</td>\n",
       "      <td>0.275834</td>\n",
       "      <td>-0.141534</td>\n",
       "      <td>0.236763</td>\n",
       "      <td>-0.070452</td>\n",
       "      <td>-0.109716</td>\n",
       "      <td>...</td>\n",
       "      <td>1.415806</td>\n",
       "      <td>-0.000615</td>\n",
       "      <td>0.729939</td>\n",
       "      <td>0.223449</td>\n",
       "      <td>0.494845</td>\n",
       "      <td>0.288660</td>\n",
       "      <td>1</td>\n",
       "      <td>1.000000</td>\n",
       "      <td>3.688030</td>\n",
       "      <td>0.000000</td>\n",
       "    </tr>\n",
       "    <tr>\n",
       "      <th>2</th>\n",
       "      <td>-0.144227</td>\n",
       "      <td>0.186220</td>\n",
       "      <td>0.195862</td>\n",
       "      <td>-0.191816</td>\n",
       "      <td>0.040144</td>\n",
       "      <td>0.048818</td>\n",
       "      <td>-0.152179</td>\n",
       "      <td>0.249534</td>\n",
       "      <td>-0.201297</td>\n",
       "      <td>0.082370</td>\n",
       "      <td>...</td>\n",
       "      <td>1.450126</td>\n",
       "      <td>-0.001529</td>\n",
       "      <td>0.602388</td>\n",
       "      <td>0.221146</td>\n",
       "      <td>0.484848</td>\n",
       "      <td>0.288543</td>\n",
       "      <td>2</td>\n",
       "      <td>0.969697</td>\n",
       "      <td>3.215101</td>\n",
       "      <td>0.030303</td>\n",
       "    </tr>\n",
       "    <tr>\n",
       "      <th>3</th>\n",
       "      <td>-0.122543</td>\n",
       "      <td>0.002869</td>\n",
       "      <td>0.263032</td>\n",
       "      <td>-0.220487</td>\n",
       "      <td>0.047923</td>\n",
       "      <td>0.133997</td>\n",
       "      <td>-0.152259</td>\n",
       "      <td>0.304701</td>\n",
       "      <td>-0.172328</td>\n",
       "      <td>0.124563</td>\n",
       "      <td>...</td>\n",
       "      <td>1.394016</td>\n",
       "      <td>0.000029</td>\n",
       "      <td>0.878893</td>\n",
       "      <td>0.111374</td>\n",
       "      <td>0.485294</td>\n",
       "      <td>0.288550</td>\n",
       "      <td>1</td>\n",
       "      <td>1.000000</td>\n",
       "      <td>4.482470</td>\n",
       "      <td>0.000000</td>\n",
       "    </tr>\n",
       "    <tr>\n",
       "      <th>4</th>\n",
       "      <td>-0.158802</td>\n",
       "      <td>0.202358</td>\n",
       "      <td>0.321292</td>\n",
       "      <td>-0.364938</td>\n",
       "      <td>-0.154204</td>\n",
       "      <td>0.202798</td>\n",
       "      <td>-0.099203</td>\n",
       "      <td>0.314889</td>\n",
       "      <td>-0.088144</td>\n",
       "      <td>-0.126509</td>\n",
       "      <td>...</td>\n",
       "      <td>1.267160</td>\n",
       "      <td>-0.000217</td>\n",
       "      <td>0.646836</td>\n",
       "      <td>0.251838</td>\n",
       "      <td>0.488372</td>\n",
       "      <td>0.288597</td>\n",
       "      <td>1</td>\n",
       "      <td>1.000000</td>\n",
       "      <td>3.165154</td>\n",
       "      <td>0.000000</td>\n",
       "    </tr>\n",
       "  </tbody>\n",
       "</table>\n",
       "<p>5 rows × 119 columns</p>\n",
       "</div>"
      ],
      "text/plain": [
       "        0         1         2         3         4         5         6    \\\n",
       "0 -0.089154  0.361075  0.414182 -0.196627 -0.237979 -0.204637  0.038888   \n",
       "1 -0.105960  0.258084  0.348384 -0.316416 -0.062082  0.275834 -0.141534   \n",
       "2 -0.144227  0.186220  0.195862 -0.191816  0.040144  0.048818 -0.152179   \n",
       "3 -0.122543  0.002869  0.263032 -0.220487  0.047923  0.133997 -0.152259   \n",
       "4 -0.158802  0.202358  0.321292 -0.364938 -0.154204  0.202798 -0.099203   \n",
       "\n",
       "        7         8         9    ...       109       110       111       112  \\\n",
       "0  0.232156 -0.118301 -0.100396  ...  1.345971  0.114815  0.533333  0.257624   \n",
       "1  0.236763 -0.070452 -0.109716  ...  1.415806 -0.000615  0.729939  0.223449   \n",
       "2  0.249534 -0.201297  0.082370  ...  1.450126 -0.001529  0.602388  0.221146   \n",
       "3  0.304701 -0.172328  0.124563  ...  1.394016  0.000029  0.878893  0.111374   \n",
       "4  0.314889 -0.088144 -0.126509  ...  1.267160 -0.000217  0.646836  0.251838   \n",
       "\n",
       "        113       114  115       116       117       118  \n",
       "0  0.466667  0.288033    3  0.866667  2.704423  0.133333  \n",
       "1  0.494845  0.288660    1  1.000000  3.688030  0.000000  \n",
       "2  0.484848  0.288543    2  0.969697  3.215101  0.030303  \n",
       "3  0.485294  0.288550    1  1.000000  4.482470  0.000000  \n",
       "4  0.488372  0.288597    1  1.000000  3.165154  0.000000  \n",
       "\n",
       "[5 rows x 119 columns]"
      ]
     },
     "execution_count": 5,
     "metadata": {},
     "output_type": "execute_result"
    }
   ],
   "source": [
    "l = data.features.tolist()\n",
    "features = pd.DataFrame(l,columns=[i for i in range(len(data.features[1]))])\n",
    "features.head()"
   ]
  },
  {
   "cell_type": "code",
   "execution_count": 6,
   "id": "25684d28-55c7-4e8e-b3eb-2f9f5ff08018",
   "metadata": {},
   "outputs": [],
   "source": [
    "# Turn useful > 0 => all equal to 1  \n",
    "data.loc[data.useful>0,'useful']=1\n",
    "features['useful']=data.useful\n",
    "\n",
    "# Turn funny > 0 => all equal to 1  \n",
    "data.loc[data.funny>0,'funny']=1\n",
    "features['funny']=data.funny\n",
    "\n",
    "# Turn cool > 0 => all equal to 1  \n",
    "data.loc[data.cool>0,'cool']=1\n",
    "features['cool']=data.cool"
   ]
  },
  {
   "cell_type": "code",
   "execution_count": 8,
   "id": "b9942465-e66d-4b95-9acb-0c0e6e0b60d8",
   "metadata": {},
   "outputs": [
    {
     "data": {
      "text/html": [
       "<div>\n",
       "<style scoped>\n",
       "    .dataframe tbody tr th:only-of-type {\n",
       "        vertical-align: middle;\n",
       "    }\n",
       "\n",
       "    .dataframe tbody tr th {\n",
       "        vertical-align: top;\n",
       "    }\n",
       "\n",
       "    .dataframe thead th {\n",
       "        text-align: right;\n",
       "    }\n",
       "</style>\n",
       "<table border=\"1\" class=\"dataframe\">\n",
       "  <thead>\n",
       "    <tr style=\"text-align: right;\">\n",
       "      <th></th>\n",
       "      <th></th>\n",
       "      <th>stars</th>\n",
       "      <th>useful</th>\n",
       "      <th>funny</th>\n",
       "      <th>cool</th>\n",
       "    </tr>\n",
       "  </thead>\n",
       "  <tbody>\n",
       "    <tr>\n",
       "      <th>count</th>\n",
       "      <td>71315.000000</td>\n",
       "      <td>71315.000000</td>\n",
       "      <td>71315.000000</td>\n",
       "      <td>71315.000000</td>\n",
       "      <td>71315.000000</td>\n",
       "    </tr>\n",
       "    <tr>\n",
       "      <th>mean</th>\n",
       "      <td>633179.188894</td>\n",
       "      <td>3.796354</td>\n",
       "      <td>0.302026</td>\n",
       "      <td>0.098941</td>\n",
       "      <td>0.154091</td>\n",
       "    </tr>\n",
       "    <tr>\n",
       "      <th>std</th>\n",
       "      <td>51449.696345</td>\n",
       "      <td>1.538201</td>\n",
       "      <td>0.459140</td>\n",
       "      <td>0.298585</td>\n",
       "      <td>0.361038</td>\n",
       "    </tr>\n",
       "    <tr>\n",
       "      <th>min</th>\n",
       "      <td>410008.000000</td>\n",
       "      <td>1.000000</td>\n",
       "      <td>0.000000</td>\n",
       "      <td>0.000000</td>\n",
       "      <td>0.000000</td>\n",
       "    </tr>\n",
       "    <tr>\n",
       "      <th>25%</th>\n",
       "      <td>609771.500000</td>\n",
       "      <td>3.000000</td>\n",
       "      <td>0.000000</td>\n",
       "      <td>0.000000</td>\n",
       "      <td>0.000000</td>\n",
       "    </tr>\n",
       "    <tr>\n",
       "      <th>50%</th>\n",
       "      <td>639602.000000</td>\n",
       "      <td>5.000000</td>\n",
       "      <td>0.000000</td>\n",
       "      <td>0.000000</td>\n",
       "      <td>0.000000</td>\n",
       "    </tr>\n",
       "    <tr>\n",
       "      <th>75%</th>\n",
       "      <td>670105.500000</td>\n",
       "      <td>5.000000</td>\n",
       "      <td>1.000000</td>\n",
       "      <td>0.000000</td>\n",
       "      <td>0.000000</td>\n",
       "    </tr>\n",
       "    <tr>\n",
       "      <th>max</th>\n",
       "      <td>699997.000000</td>\n",
       "      <td>5.000000</td>\n",
       "      <td>1.000000</td>\n",
       "      <td>1.000000</td>\n",
       "      <td>1.000000</td>\n",
       "    </tr>\n",
       "  </tbody>\n",
       "</table>\n",
       "</div>"
      ],
      "text/plain": [
       "                             stars        useful         funny          cool\n",
       "count   71315.000000  71315.000000  71315.000000  71315.000000  71315.000000\n",
       "mean   633179.188894      3.796354      0.302026      0.098941      0.154091\n",
       "std     51449.696345      1.538201      0.459140      0.298585      0.361038\n",
       "min    410008.000000      1.000000      0.000000      0.000000      0.000000\n",
       "25%    609771.500000      3.000000      0.000000      0.000000      0.000000\n",
       "50%    639602.000000      5.000000      0.000000      0.000000      0.000000\n",
       "75%    670105.500000      5.000000      1.000000      0.000000      0.000000\n",
       "max    699997.000000      5.000000      1.000000      1.000000      1.000000"
      ]
     },
     "execution_count": 8,
     "metadata": {},
     "output_type": "execute_result"
    }
   ],
   "source": [
    "data.describe()"
   ]
  },
  {
   "cell_type": "markdown",
   "id": "b8a64954-c325-4c4d-9dbb-05e2343ae028",
   "metadata": {},
   "source": [
    "# 1. ICMLA"
   ]
  },
  {
   "cell_type": "markdown",
   "id": "423a6343-8856-469f-9a5c-10f8a5bc043e",
   "metadata": {},
   "source": [
    "## 1.1 Useful flag"
   ]
  },
  {
   "cell_type": "code",
   "execution_count": 9,
   "id": "5fa237bc-6813-4592-b3e9-3bc8fbea067a",
   "metadata": {},
   "outputs": [
    {
     "name": "stdout",
     "output_type": "stream",
     "text": [
      "              precision    recall  f1-score   support\n",
      "\n",
      "           0       0.72      0.95      0.82     16468\n",
      "           1       0.57      0.15      0.23      7066\n",
      "\n",
      "    accuracy                           0.71     23534\n",
      "   macro avg       0.65      0.55      0.53     23534\n",
      "weighted avg       0.68      0.71      0.65     23534\n",
      "\n"
     ]
    }
   ],
   "source": [
    "from sklearn.ensemble import RandomForestClassifier\n",
    "\n",
    "X_ =  features.iloc[:,0:119]\n",
    "y_ = features['useful']\n",
    "\n",
    "pipe = Pipeline([\n",
    "    ('scaler', StandardScaler()),\n",
    "    ('classifier', RandomForestClassifier(n_jobs=5, max_depth=13))])\n",
    "\n",
    "X_train, X_test, y_train, y_test = train_test_split(X_, y_, test_size=0.33, random_state=42)\n",
    "\n",
    "\n",
    "classifier = pipe.fit(X_train, y_train)\n",
    "y_pred = pipe.predict(X_test)\n",
    "print(classification_report(y_test, y_pred))"
   ]
  },
  {
   "cell_type": "markdown",
   "id": "5ce4ff8b-5e58-4a02-ad6f-5d2c54877fec",
   "metadata": {},
   "source": [
    "## 1.2 Funny Flag"
   ]
  },
  {
   "cell_type": "code",
   "execution_count": 10,
   "id": "9d9b6841-e965-4f7a-8db0-f63e806cc3b7",
   "metadata": {},
   "outputs": [
    {
     "name": "stdout",
     "output_type": "stream",
     "text": [
      "              precision    recall  f1-score   support\n",
      "\n",
      "           0       0.90      1.00      0.95     21204\n",
      "           1       0.75      0.00      0.00      2330\n",
      "\n",
      "    accuracy                           0.90     23534\n",
      "   macro avg       0.83      0.50      0.48     23534\n",
      "weighted avg       0.89      0.90      0.85     23534\n",
      "\n"
     ]
    }
   ],
   "source": [
    "from sklearn.ensemble import RandomForestClassifier\n",
    "\n",
    "X_ =  features.iloc[:,0:119]\n",
    "y_ = features['funny']\n",
    "\n",
    "pipe = Pipeline([\n",
    "    ('scaler', StandardScaler()),\n",
    "    ('classifier', RandomForestClassifier(n_jobs=5, max_depth=13))])\n",
    "\n",
    "X_train, X_test, y_train, y_test = train_test_split(X_, y_, test_size=0.33, random_state=42)\n",
    "\n",
    "\n",
    "classifier = pipe.fit(X_train, y_train)\n",
    "y_pred = pipe.predict(X_test)\n",
    "print(classification_report(y_test, y_pred))"
   ]
  },
  {
   "cell_type": "markdown",
   "id": "07328d59-0b21-497f-9e1c-3c8ed87ccf4a",
   "metadata": {},
   "source": [
    "## 1.3 Cool flag"
   ]
  },
  {
   "cell_type": "code",
   "execution_count": 11,
   "id": "1d6bc9b0-585f-40cf-840c-f4015141601f",
   "metadata": {},
   "outputs": [
    {
     "name": "stdout",
     "output_type": "stream",
     "text": [
      "              precision    recall  f1-score   support\n",
      "\n",
      "           0       0.84      1.00      0.92     19862\n",
      "           1       0.75      0.01      0.01      3672\n",
      "\n",
      "    accuracy                           0.84     23534\n",
      "   macro avg       0.80      0.50      0.47     23534\n",
      "weighted avg       0.83      0.84      0.78     23534\n",
      "\n"
     ]
    }
   ],
   "source": [
    "from sklearn.ensemble import RandomForestClassifier\n",
    "\n",
    "X_ =  features.iloc[:,0:119]\n",
    "y_ = features['cool']\n",
    "\n",
    "pipe = Pipeline([\n",
    "    ('scaler', StandardScaler()),\n",
    "    ('classifier', RandomForestClassifier(n_jobs=5, max_depth=13))])\n",
    "\n",
    "X_train, X_test, y_train, y_test = train_test_split(X_, y_, test_size=0.33, random_state=42)\n",
    "\n",
    "\n",
    "classifier = pipe.fit(X_train, y_train)\n",
    "y_pred = pipe.predict(X_test)\n",
    "print(classification_report(y_test, y_pred))"
   ]
  },
  {
   "cell_type": "markdown",
   "id": "8aae0830-dde1-4aa2-a01d-74027807d41f",
   "metadata": {},
   "source": [
    "# 2. TF-IDF"
   ]
  },
  {
   "cell_type": "markdown",
   "id": "c3c906e3-e696-4928-ba3f-4b247321092b",
   "metadata": {},
   "source": [
    "## 2.1 Useful flag"
   ]
  },
  {
   "cell_type": "code",
   "execution_count": 12,
   "id": "78469a29-29a1-4ee2-b48c-9471832c7b1b",
   "metadata": {},
   "outputs": [
    {
     "name": "stdout",
     "output_type": "stream",
     "text": [
      "              precision    recall  f1-score   support\n",
      "\n",
      "           0       0.70      1.00      0.82     16468\n",
      "           1       0.71      0.01      0.01      7066\n",
      "\n",
      "    accuracy                           0.70     23534\n",
      "   macro avg       0.70      0.50      0.42     23534\n",
      "weighted avg       0.70      0.70      0.58     23534\n",
      "\n",
      "CPU times: user 16.7 s, sys: 46.4 ms, total: 16.7 s\n",
      "Wall time: 7.76 s\n"
     ]
    }
   ],
   "source": [
    "%%time\n",
    "\n",
    "X_ = data['text']\n",
    "y_ = data['useful']\n",
    "\n",
    "pipe = Pipeline([('vectorizer', CountVectorizer()),  \n",
    "                 ('tfidf', TfidfTransformer()), \n",
    "                 ('classifier', RandomForestClassifier(n_jobs=5, max_depth=13))])\n",
    "\n",
    "X_train, X_test, y_train, y_test = train_test_split(X_, y_, test_size=0.33, random_state=42)\n",
    "\n",
    "classifier = pipe.fit(X_train, y_train)\n",
    "y_pred = pipe.predict(X_test)\n",
    "\n",
    "print(classification_report(y_test, y_pred))"
   ]
  },
  {
   "cell_type": "markdown",
   "id": "45b1ff91-ef93-442b-a3a0-256d8453a389",
   "metadata": {},
   "source": [
    "## 2.2 Funny Flag"
   ]
  },
  {
   "cell_type": "code",
   "execution_count": 13,
   "id": "8a941efb-29e2-4055-ad7a-3bd314490e10",
   "metadata": {},
   "outputs": [
    {
     "name": "stdout",
     "output_type": "stream",
     "text": [
      "              precision    recall  f1-score   support\n",
      "\n",
      "           0       0.90      1.00      0.95     21204\n",
      "           1       0.00      0.00      0.00      2330\n",
      "\n",
      "    accuracy                           0.90     23534\n",
      "   macro avg       0.45      0.50      0.47     23534\n",
      "weighted avg       0.81      0.90      0.85     23534\n",
      "\n",
      "CPU times: user 12.5 s, sys: 33.4 ms, total: 12.5 s\n",
      "Wall time: 6.71 s\n"
     ]
    },
    {
     "name": "stderr",
     "output_type": "stream",
     "text": [
      "/home/pedro/.local/lib/python3.9/site-packages/sklearn/metrics/_classification.py:1248: UndefinedMetricWarning: Precision and F-score are ill-defined and being set to 0.0 in labels with no predicted samples. Use `zero_division` parameter to control this behavior.\n",
      "  _warn_prf(average, modifier, msg_start, len(result))\n",
      "/home/pedro/.local/lib/python3.9/site-packages/sklearn/metrics/_classification.py:1248: UndefinedMetricWarning: Precision and F-score are ill-defined and being set to 0.0 in labels with no predicted samples. Use `zero_division` parameter to control this behavior.\n",
      "  _warn_prf(average, modifier, msg_start, len(result))\n",
      "/home/pedro/.local/lib/python3.9/site-packages/sklearn/metrics/_classification.py:1248: UndefinedMetricWarning: Precision and F-score are ill-defined and being set to 0.0 in labels with no predicted samples. Use `zero_division` parameter to control this behavior.\n",
      "  _warn_prf(average, modifier, msg_start, len(result))\n"
     ]
    }
   ],
   "source": [
    "%%time\n",
    "\n",
    "X_ = data['text']\n",
    "y_ = data['funny']\n",
    "\n",
    "pipe = Pipeline([('vectorizer', CountVectorizer()),  \n",
    "                 ('tfidf', TfidfTransformer()), \n",
    "                 ('classifier', RandomForestClassifier(n_jobs=5, max_depth=13))])\n",
    "\n",
    "X_train, X_test, y_train, y_test = train_test_split(X_, y_, test_size=0.33, random_state=42)\n",
    "\n",
    "classifier = pipe.fit(X_train, y_train)\n",
    "y_pred = pipe.predict(X_test)\n",
    "\n",
    "print(classification_report(y_test, y_pred))"
   ]
  },
  {
   "cell_type": "markdown",
   "id": "fbbfe038-5968-4b32-b135-e8e023cf8906",
   "metadata": {},
   "source": [
    "## 2.3 Cool"
   ]
  },
  {
   "cell_type": "code",
   "execution_count": 14,
   "id": "74e78f73-2b7d-4a6e-b588-2bf9a55582aa",
   "metadata": {},
   "outputs": [
    {
     "name": "stdout",
     "output_type": "stream",
     "text": [
      "              precision    recall  f1-score   support\n",
      "\n",
      "           0       0.84      1.00      0.92     19862\n",
      "           1       0.00      0.00      0.00      3672\n",
      "\n",
      "    accuracy                           0.84     23534\n",
      "   macro avg       0.42      0.50      0.46     23534\n",
      "weighted avg       0.71      0.84      0.77     23534\n",
      "\n",
      "CPU times: user 13.1 s, sys: 36.7 ms, total: 13.1 s\n",
      "Wall time: 6.72 s\n"
     ]
    },
    {
     "name": "stderr",
     "output_type": "stream",
     "text": [
      "/home/pedro/.local/lib/python3.9/site-packages/sklearn/metrics/_classification.py:1248: UndefinedMetricWarning: Precision and F-score are ill-defined and being set to 0.0 in labels with no predicted samples. Use `zero_division` parameter to control this behavior.\n",
      "  _warn_prf(average, modifier, msg_start, len(result))\n",
      "/home/pedro/.local/lib/python3.9/site-packages/sklearn/metrics/_classification.py:1248: UndefinedMetricWarning: Precision and F-score are ill-defined and being set to 0.0 in labels with no predicted samples. Use `zero_division` parameter to control this behavior.\n",
      "  _warn_prf(average, modifier, msg_start, len(result))\n",
      "/home/pedro/.local/lib/python3.9/site-packages/sklearn/metrics/_classification.py:1248: UndefinedMetricWarning: Precision and F-score are ill-defined and being set to 0.0 in labels with no predicted samples. Use `zero_division` parameter to control this behavior.\n",
      "  _warn_prf(average, modifier, msg_start, len(result))\n"
     ]
    }
   ],
   "source": [
    "%%time\n",
    "\n",
    "X_ = data['text']\n",
    "y_ = data['cool']\n",
    "\n",
    "pipe = Pipeline([('vectorizer', CountVectorizer()),  \n",
    "                 ('tfidf', TfidfTransformer()), \n",
    "                 ('classifier', RandomForestClassifier(n_jobs=5, max_depth=13))])\n",
    "\n",
    "X_train, X_test, y_train, y_test = train_test_split(X_, y_, test_size=0.33, random_state=42)\n",
    "\n",
    "classifier = pipe.fit(X_train, y_train)\n",
    "y_pred = pipe.predict(X_test)\n",
    "\n",
    "print(classification_report(y_test, y_pred))"
   ]
  },
  {
   "cell_type": "markdown",
   "id": "29652508-7e44-41ac-b2ac-c751ba381248",
   "metadata": {},
   "source": [
    "# 4. Trying the balancend dataset ICMLA"
   ]
  },
  {
   "cell_type": "code",
   "execution_count": 16,
   "id": "f4db05f5-22dc-49b4-be7e-416511f57728",
   "metadata": {},
   "outputs": [
    {
     "name": "stdout",
     "output_type": "stream",
     "text": [
      "useful: Counter({0: 49776, 1: 21539})\n",
      "funny: Counter({0: 64259, 1: 7056})\n",
      "cool: Counter({0: 60326, 1: 10989})\n"
     ]
    }
   ],
   "source": [
    "from collections import Counter\n",
    "from imblearn.over_sampling import SMOTE\n",
    "counter_u = Counter(features['useful'])\n",
    "print('useful:',counter_u)\n",
    "counter_u = Counter(features['funny'])\n",
    "print('funny:',counter_u)\n",
    "counter_u = Counter(features['cool'])\n",
    "print('cool:',counter_u)"
   ]
  },
  {
   "cell_type": "markdown",
   "id": "9c58a5dc-4ec0-4e99-8efc-2b954c85316a",
   "metadata": {},
   "source": [
    "## 4.1 Useful flag with smote ICMLA"
   ]
  },
  {
   "cell_type": "code",
   "execution_count": 15,
   "id": "622d07e1-29b9-4407-b982-1cfe9e75fd2e",
   "metadata": {},
   "outputs": [],
   "source": [
    "oversample = SMOTE()"
   ]
  },
  {
   "cell_type": "code",
   "execution_count": 15,
   "id": "c979126f-24b2-4491-8afa-ba5c397956bc",
   "metadata": {},
   "outputs": [
    {
     "name": "stdout",
     "output_type": "stream",
     "text": [
      "Counter({0: 49776, 1: 49776})\n"
     ]
    }
   ],
   "source": [
    "counter_u = Counter(features['useful'])\n",
    "\n",
    "print(counter_u)\n",
    "\n",
    "X_useful, y_useful = oversample.fit_resample(features.iloc[:,0:119], features['useful'])\n",
    "\n",
    "# summarize the new class distribution\n",
    "counter_u = Counter(y_useful)\n",
    "\n",
    "print(counter_u)"
   ]
  },
  {
   "cell_type": "code",
   "execution_count": 13,
   "id": "f23efea8-317a-48e3-a07f-599f9ee66033",
   "metadata": {},
   "outputs": [
    {
     "name": "stdout",
     "output_type": "stream",
     "text": [
      "              precision    recall  f1-score   support\n",
      "\n",
      "           0       0.70      0.69      0.70     16527\n",
      "           1       0.69      0.70      0.70     16326\n",
      "\n",
      "    accuracy                           0.70     32853\n",
      "   macro avg       0.70      0.70      0.70     32853\n",
      "weighted avg       0.70      0.70      0.70     32853\n",
      "\n"
     ]
    }
   ],
   "source": [
    "from sklearn.ensemble import RandomForestClassifier\n",
    "\n",
    "X_ =  X_useful\n",
    "y_ = y_useful\n",
    "\n",
    "pipe = Pipeline([\n",
    "    ('scaler', StandardScaler()),\n",
    "    ('classifier', RandomForestClassifier(n_jobs=5, max_depth=13))])\n",
    "\n",
    "X_train, X_test, y_train, y_test = train_test_split(X_, y_, test_size=0.33, random_state=42)\n",
    "\n",
    "\n",
    "classifier = pipe.fit(X_train, y_train)\n",
    "y_pred = pipe.predict(X_test)\n",
    "print(classification_report(y_test, y_pred))"
   ]
  },
  {
   "cell_type": "markdown",
   "id": "2d02cc49-0c1d-49a8-9761-0dcc1824e356",
   "metadata": {},
   "source": [
    "## 4.2 funny flag with smote ICMLA"
   ]
  },
  {
   "cell_type": "code",
   "execution_count": 16,
   "id": "97e51d31-f725-489e-ae8b-59610c538716",
   "metadata": {},
   "outputs": [
    {
     "name": "stdout",
     "output_type": "stream",
     "text": [
      "Counter({0: 64259, 1: 64259})\n"
     ]
    }
   ],
   "source": [
    "X_funny, y_funny = oversample.fit_resample(features.iloc[:,0:119], features['funny'])\n",
    "\n",
    "counter_f = Counter(y_funny)\n",
    "\n",
    "print(counter_f)"
   ]
  },
  {
   "cell_type": "code",
   "execution_count": 17,
   "id": "1f2beca2-d362-4d9c-9c22-e96d3a841edf",
   "metadata": {},
   "outputs": [
    {
     "name": "stdout",
     "output_type": "stream",
     "text": [
      "              precision    recall  f1-score   support\n",
      "\n",
      "           0       0.82      0.76      0.79     21307\n",
      "           1       0.77      0.83      0.80     21104\n",
      "\n",
      "    accuracy                           0.80     42411\n",
      "   macro avg       0.80      0.80      0.80     42411\n",
      "weighted avg       0.80      0.80      0.80     42411\n",
      "\n"
     ]
    }
   ],
   "source": [
    "from sklearn.ensemble import RandomForestClassifier\n",
    "\n",
    "X_ =  X_funny\n",
    "y_ = y_funny\n",
    "\n",
    "pipe = Pipeline([\n",
    "    ('scaler', StandardScaler()),\n",
    "    ('classifier', RandomForestClassifier(n_jobs=5, max_depth=13))])\n",
    "\n",
    "X_train, X_test, y_train, y_test = train_test_split(X_, y_, test_size=0.33, random_state=42)\n",
    "\n",
    "\n",
    "classifier = pipe.fit(X_train, y_train)\n",
    "y_pred = pipe.predict(X_test)\n",
    "print(classification_report(y_test, y_pred))"
   ]
  },
  {
   "cell_type": "markdown",
   "id": "23709a0a-aa58-4998-b7e5-76907422868c",
   "metadata": {},
   "source": [
    "## 4.3 Cool flag with smote ICMLA"
   ]
  },
  {
   "cell_type": "code",
   "execution_count": 21,
   "id": "0cc7d5c5-e257-4038-ab72-44a99289542f",
   "metadata": {},
   "outputs": [
    {
     "name": "stdout",
     "output_type": "stream",
     "text": [
      "Counter({0: 60326, 1: 60326})\n"
     ]
    }
   ],
   "source": [
    "X_cool, y_cool = oversample.fit_resample(features.iloc[:,0:119], features['cool'])\n",
    "\n",
    "counter_c = Counter(y_cool)\n",
    "\n",
    "print(counter_c)"
   ]
  },
  {
   "cell_type": "code",
   "execution_count": 22,
   "id": "6478a2b4-6aec-4b77-86af-f6268ec13b9a",
   "metadata": {},
   "outputs": [
    {
     "name": "stdout",
     "output_type": "stream",
     "text": [
      "              precision    recall  f1-score   support\n",
      "\n",
      "           0       0.79      0.77      0.78     20076\n",
      "           1       0.77      0.79      0.78     19740\n",
      "\n",
      "    accuracy                           0.78     39816\n",
      "   macro avg       0.78      0.78      0.78     39816\n",
      "weighted avg       0.78      0.78      0.78     39816\n",
      "\n"
     ]
    }
   ],
   "source": [
    "from sklearn.ensemble import RandomForestClassifier\n",
    "\n",
    "X_ =  X_cool\n",
    "y_ = y_cool\n",
    "\n",
    "pipe = Pipeline([\n",
    "    ('scaler', StandardScaler()),\n",
    "    ('classifier', RandomForestClassifier(n_jobs=5, max_depth=13))])\n",
    "\n",
    "X_train, X_test, y_train, y_test = train_test_split(X_, y_, test_size=0.33, random_state=42)\n",
    "\n",
    "\n",
    "classifier = pipe.fit(X_train, y_train)\n",
    "y_pred = pipe.predict(X_test)\n",
    "print(classification_report(y_test, y_pred))"
   ]
  },
  {
   "cell_type": "markdown",
   "id": "032fd517-d350-47ea-bf7c-92394a7eaeb5",
   "metadata": {},
   "source": [
    "# 5 Trying to use smote with tf-idf"
   ]
  },
  {
   "cell_type": "markdown",
   "id": "d2ad991e-4d2f-4a10-8772-68af25c4281a",
   "metadata": {},
   "source": [
    "## 5.1 Useful flag "
   ]
  },
  {
   "cell_type": "code",
   "execution_count": 26,
   "id": "7ce9b1c5-ae4b-47a7-9021-901f69466db9",
   "metadata": {
    "collapsed": true,
    "jupyter": {
     "outputs_hidden": true
    },
    "tags": []
   },
   "outputs": [
    {
     "name": "stdout",
     "output_type": "stream",
     "text": [
      "  (0, 73470)\t0.2881895926253906\n",
      "  (0, 67615)\t0.16067326796634235\n",
      "  (0, 60349)\t0.14849009146701306\n",
      "  (0, 58963)\t0.44820356058468785\n",
      "  (0, 54453)\t0.25685857495782044\n",
      "  (0, 53450)\t0.26697876894887146\n",
      "  (0, 50787)\t0.3620597998947938\n",
      "  (0, 48068)\t0.27299402482538815\n",
      "  (0, 46262)\t0.19606212121890332\n",
      "  (0, 30459)\t0.2873728574504537\n",
      "  (0, 30286)\t0.1741699508009641\n",
      "  (0, 27859)\t0.13467819395036393\n",
      "  (0, 25295)\t0.22472227711812323\n",
      "  (0, 10066)\t0.19201370544087717\n",
      "  (0, 7707)\t0.2616521099008878\n",
      "  (1, 75942)\t0.1861981836084585\n",
      "  (1, 75588)\t0.118639088238896\n",
      "  (1, 75547)\t0.16675094331860849\n",
      "  (1, 75323)\t0.09293300837899228\n",
      "  (1, 74827)\t0.07642783070597406\n",
      "  (1, 74685)\t0.1267488167332165\n",
      "  (1, 74593)\t0.17208637960125714\n",
      "  (1, 73944)\t0.05212564278080279\n",
      "  (1, 73579)\t0.05918519979558155\n",
      "  (1, 71413)\t0.17310017962370264\n",
      "  :\t:\n",
      "  (71314, 9640)\t0.06379357131586363\n",
      "  (71314, 9541)\t0.0452401771540257\n",
      "  (71314, 9401)\t0.016532203569513838\n",
      "  (71314, 9284)\t0.37911566451766787\n",
      "  (71314, 9282)\t0.06734513847044912\n",
      "  (71314, 8425)\t0.01883272894481785\n",
      "  (71314, 8223)\t0.030308178040015878\n",
      "  (71314, 7625)\t0.01666976398931431\n",
      "  (71314, 7353)\t0.018452028889728436\n",
      "  (71314, 6629)\t0.026921779748581245\n",
      "  (71314, 6514)\t0.042930301926373815\n",
      "  (71314, 6505)\t0.02823356200854224\n",
      "  (71314, 6279)\t0.12584053757975483\n",
      "  (71314, 6231)\t0.059681101816946955\n",
      "  (71314, 5914)\t0.024415210655628645\n",
      "  (71314, 5581)\t0.03676924827063313\n",
      "  (71314, 4395)\t0.049448995406276265\n",
      "  (71314, 4163)\t0.03255238016759632\n",
      "  (71314, 4154)\t0.05680269517334435\n",
      "  (71314, 3741)\t0.08671725265944287\n",
      "  (71314, 3722)\t0.08671725265944287\n",
      "  (71314, 1988)\t0.05426144476998234\n",
      "  (71314, 1621)\t0.07012242778027016\n",
      "  (71314, 1384)\t0.03492101444615213\n",
      "  (71314, 953)\t0.05473861165555343\n",
      "Counter({0: 49776, 1: 49776})\n"
     ]
    }
   ],
   "source": [
    "pipe = Pipeline([('vectorizer', CountVectorizer()),  \n",
    "                 ('tfidf', TfidfTransformer())])\n",
    "\n",
    "x_features = pipe.fit_transform(data.text)\n",
    "X_useful, y_useful = oversample.fit_resample(x_features, features['useful'])\n",
    "\n",
    "# summarize the new class distribution\n",
    "counter_u = Counter(y_useful)\n",
    "\n",
    "print(counter_u)"
   ]
  },
  {
   "cell_type": "code",
   "execution_count": 28,
   "id": "79731a88-7414-42dd-b58a-e6b64caa2fb5",
   "metadata": {},
   "outputs": [
    {
     "name": "stdout",
     "output_type": "stream",
     "text": [
      "              precision    recall  f1-score   support\n",
      "\n",
      "           0       0.69      0.84      0.76     16527\n",
      "           1       0.80      0.62      0.70     16326\n",
      "\n",
      "    accuracy                           0.73     32853\n",
      "   macro avg       0.75      0.73      0.73     32853\n",
      "weighted avg       0.75      0.73      0.73     32853\n",
      "\n"
     ]
    }
   ],
   "source": [
    "from sklearn.ensemble import RandomForestClassifier\n",
    "\n",
    "X_ =  X_useful\n",
    "y_ = y_useful\n",
    "\n",
    "pipe = Pipeline([\n",
    "    ('classifier', RandomForestClassifier(n_jobs=5, max_depth=13))])\n",
    "\n",
    "X_train, X_test, y_train, y_test = train_test_split(X_, y_, test_size=0.33, random_state=42)\n",
    "\n",
    "\n",
    "classifier = pipe.fit(X_train, y_train)\n",
    "y_pred = pipe.predict(X_test)\n",
    "print(classification_report(y_test, y_pred))"
   ]
  },
  {
   "cell_type": "markdown",
   "id": "17fba2aa-9aa0-42ad-9b6b-9ea7dafb7aa0",
   "metadata": {
    "tags": []
   },
   "source": [
    "## 5.2 funny tfidf with smote"
   ]
  },
  {
   "cell_type": "code",
   "execution_count": 30,
   "id": "0219dbea-a691-434b-897f-eb135a9e04ad",
   "metadata": {
    "collapsed": true,
    "jupyter": {
     "outputs_hidden": true
    },
    "tags": []
   },
   "outputs": [
    {
     "name": "stdout",
     "output_type": "stream",
     "text": [
      "  (0, 73470)\t0.2881895926253906\n",
      "  (0, 67615)\t0.16067326796634235\n",
      "  (0, 60349)\t0.14849009146701306\n",
      "  (0, 58963)\t0.44820356058468785\n",
      "  (0, 54453)\t0.25685857495782044\n",
      "  (0, 53450)\t0.26697876894887146\n",
      "  (0, 50787)\t0.3620597998947938\n",
      "  (0, 48068)\t0.27299402482538815\n",
      "  (0, 46262)\t0.19606212121890332\n",
      "  (0, 30459)\t0.2873728574504537\n",
      "  (0, 30286)\t0.1741699508009641\n",
      "  (0, 27859)\t0.13467819395036393\n",
      "  (0, 25295)\t0.22472227711812323\n",
      "  (0, 10066)\t0.19201370544087717\n",
      "  (0, 7707)\t0.2616521099008878\n",
      "  (1, 75942)\t0.1861981836084585\n",
      "  (1, 75588)\t0.118639088238896\n",
      "  (1, 75547)\t0.16675094331860849\n",
      "  (1, 75323)\t0.09293300837899228\n",
      "  (1, 74827)\t0.07642783070597406\n",
      "  (1, 74685)\t0.1267488167332165\n",
      "  (1, 74593)\t0.17208637960125714\n",
      "  (1, 73944)\t0.05212564278080279\n",
      "  (1, 73579)\t0.05918519979558155\n",
      "  (1, 71413)\t0.17310017962370264\n",
      "  :\t:\n",
      "  (71314, 9640)\t0.06379357131586363\n",
      "  (71314, 9541)\t0.0452401771540257\n",
      "  (71314, 9401)\t0.016532203569513838\n",
      "  (71314, 9284)\t0.37911566451766787\n",
      "  (71314, 9282)\t0.06734513847044912\n",
      "  (71314, 8425)\t0.01883272894481785\n",
      "  (71314, 8223)\t0.030308178040015878\n",
      "  (71314, 7625)\t0.01666976398931431\n",
      "  (71314, 7353)\t0.018452028889728436\n",
      "  (71314, 6629)\t0.026921779748581245\n",
      "  (71314, 6514)\t0.042930301926373815\n",
      "  (71314, 6505)\t0.02823356200854224\n",
      "  (71314, 6279)\t0.12584053757975483\n",
      "  (71314, 6231)\t0.059681101816946955\n",
      "  (71314, 5914)\t0.024415210655628645\n",
      "  (71314, 5581)\t0.03676924827063313\n",
      "  (71314, 4395)\t0.049448995406276265\n",
      "  (71314, 4163)\t0.03255238016759632\n",
      "  (71314, 4154)\t0.05680269517334435\n",
      "  (71314, 3741)\t0.08671725265944287\n",
      "  (71314, 3722)\t0.08671725265944287\n",
      "  (71314, 1988)\t0.05426144476998234\n",
      "  (71314, 1621)\t0.07012242778027016\n",
      "  (71314, 1384)\t0.03492101444615213\n",
      "  (71314, 953)\t0.05473861165555343\n",
      "Counter({0: 64259, 1: 64259})\n"
     ]
    }
   ],
   "source": [
    "pipe = Pipeline([('vectorizer', CountVectorizer()),  \n",
    "                 ('tfidf', TfidfTransformer())])\n",
    "\n",
    "x_features = pipe.fit_transform(data.text)\n",
    "X_funny, y_funny = oversample.fit_resample(x_features, features['funny'])\n",
    "\n",
    "# summarize the new class distribution\n",
    "counter_u = Counter(y_funny)\n",
    "\n",
    "print(counter_u)"
   ]
  },
  {
   "cell_type": "code",
   "execution_count": 31,
   "id": "3e292c14-f0f6-48c7-9eb0-8ee564463eb4",
   "metadata": {},
   "outputs": [
    {
     "name": "stdout",
     "output_type": "stream",
     "text": [
      "              precision    recall  f1-score   support\n",
      "\n",
      "           0       0.83      0.76      0.79     21307\n",
      "           1       0.77      0.84      0.81     21104\n",
      "\n",
      "    accuracy                           0.80     42411\n",
      "   macro avg       0.80      0.80      0.80     42411\n",
      "weighted avg       0.80      0.80      0.80     42411\n",
      "\n"
     ]
    }
   ],
   "source": [
    "from sklearn.ensemble import RandomForestClassifier\n",
    "\n",
    "X_ =  X_funny\n",
    "y_ = y_funny\n",
    "\n",
    "pipe = Pipeline([\n",
    "    ('classifier', RandomForestClassifier(n_jobs=5, max_depth=13))])\n",
    "\n",
    "X_train, X_test, y_train, y_test = train_test_split(X_, y_, test_size=0.33, random_state=42)\n",
    "\n",
    "\n",
    "classifier = pipe.fit(X_train, y_train)\n",
    "y_pred = pipe.predict(X_test)\n",
    "print(classification_report(y_test, y_pred))"
   ]
  },
  {
   "cell_type": "markdown",
   "id": "16df65e3-c4e5-4fd8-8a96-4316cbb2a5b6",
   "metadata": {},
   "source": [
    "## 5.3 Cool flag"
   ]
  },
  {
   "cell_type": "code",
   "execution_count": 4,
   "id": "275a3e76-e8f7-42d8-ad6f-10358d72b1c8",
   "metadata": {},
   "outputs": [
    {
     "ename": "NameError",
     "evalue": "name 'oversample' is not defined",
     "output_type": "error",
     "traceback": [
      "\u001b[0;31m---------------------------------------------------------------------------\u001b[0m",
      "\u001b[0;31mNameError\u001b[0m                                 Traceback (most recent call last)",
      "\u001b[0;32m/tmp/ipykernel_2852/1164170173.py\u001b[0m in \u001b[0;36m<module>\u001b[0;34m\u001b[0m\n\u001b[1;32m      3\u001b[0m \u001b[0;34m\u001b[0m\u001b[0m\n\u001b[1;32m      4\u001b[0m \u001b[0mx_features\u001b[0m \u001b[0;34m=\u001b[0m \u001b[0mpipe\u001b[0m\u001b[0;34m.\u001b[0m\u001b[0mfit_transform\u001b[0m\u001b[0;34m(\u001b[0m\u001b[0mdata\u001b[0m\u001b[0;34m.\u001b[0m\u001b[0mtext\u001b[0m\u001b[0;34m)\u001b[0m\u001b[0;34m\u001b[0m\u001b[0;34m\u001b[0m\u001b[0m\n\u001b[0;32m----> 5\u001b[0;31m \u001b[0mX_cool\u001b[0m\u001b[0;34m,\u001b[0m \u001b[0my_cool\u001b[0m \u001b[0;34m=\u001b[0m \u001b[0moversample\u001b[0m\u001b[0;34m.\u001b[0m\u001b[0mfit_resample\u001b[0m\u001b[0;34m(\u001b[0m\u001b[0mx_features\u001b[0m\u001b[0;34m,\u001b[0m \u001b[0mfeatures\u001b[0m\u001b[0;34m[\u001b[0m\u001b[0;34m'funny'\u001b[0m\u001b[0;34m]\u001b[0m\u001b[0;34m)\u001b[0m\u001b[0;34m\u001b[0m\u001b[0;34m\u001b[0m\u001b[0m\n\u001b[0m\u001b[1;32m      6\u001b[0m \u001b[0;34m\u001b[0m\u001b[0m\n\u001b[1;32m      7\u001b[0m \u001b[0;31m# summarize the new class distribution\u001b[0m\u001b[0;34m\u001b[0m\u001b[0;34m\u001b[0m\u001b[0m\n",
      "\u001b[0;31mNameError\u001b[0m: name 'oversample' is not defined"
     ]
    }
   ],
   "source": [
    "pipe = Pipeline([('vectorizer', CountVectorizer()),  \n",
    "                 ('tfidf', TfidfTransformer())])\n",
    "\n",
    "x_features = pipe.fit_transform(data.text)\n",
    "X_cool, y_cool = oversample.fit_resample(x_features, features['funny'])\n",
    "\n",
    "# summarize the new class distribution\n",
    "counter_u = Counter(y_cool)\n",
    "\n",
    "print(counter_u)"
   ]
  },
  {
   "cell_type": "code",
   "execution_count": null,
   "id": "6ac5c545-eba1-457e-89a9-b866198c7f34",
   "metadata": {},
   "outputs": [],
   "source": [
    "from sklearn.ensemble import RandomForestClassifier\n",
    "\n",
    "X_ =  X_funny\n",
    "y_ = y_funny\n",
    "\n",
    "pipe = Pipeline([\n",
    "    ('classifier', RandomForestClassifier(n_jobs=5, max_depth=13))])\n",
    "\n",
    "X_train, X_test, y_train, y_test = train_test_split(X_, y_, test_size=0.33, random_state=42)\n",
    "\n",
    "\n",
    "classifier = pipe.fit(X_train, y_train)\n",
    "y_pred = pipe.predict(X_test)\n",
    "print(classification_report(y_test, y_pred))"
   ]
  },
  {
   "cell_type": "markdown",
   "id": "f0fb11f5-04ba-4fc8-a81d-aa9e6ee323d8",
   "metadata": {},
   "source": [
    "# 6. Lengh?"
   ]
  },
  {
   "cell_type": "code",
   "execution_count": 5,
   "id": "f16bd705-b640-46f5-88d9-d01010a28f03",
   "metadata": {},
   "outputs": [
    {
     "data": {
      "text/plain": [
       "count    71315.000000\n",
       "mean        95.331347\n",
       "std         89.673941\n",
       "min          8.000000\n",
       "25%         39.000000\n",
       "50%         68.000000\n",
       "75%        119.000000\n",
       "max        996.000000\n",
       "Name: len, dtype: float64"
      ]
     },
     "execution_count": 5,
     "metadata": {},
     "output_type": "execute_result"
    }
   ],
   "source": [
    "data['len']=data.text.str.split().str.len()\n",
    "data.len.describe()"
   ]
  },
  {
   "cell_type": "code",
   "execution_count": 34,
   "id": "19cea88d-1940-497b-9871-3616f3f22999",
   "metadata": {},
   "outputs": [
    {
     "data": {
      "image/png": "[encoded data removed]",
      "text/plain": [
       "<Figure size 432x288 with 1 Axes>"
      ]
     },
     "metadata": {
      "needs_background": "light"
     },
     "output_type": "display_data"
    }
   ],
   "source": [
    "plt = data.len.plot(kind='hist', bins=100,title='Yelp number of word per document distribution',range=[0, 400])"
   ]
  },
  {
   "cell_type": "code",
   "execution_count": 35,
   "id": "4c89420b-20e3-4d70-8efd-85691136f938",
   "metadata": {},
   "outputs": [],
   "source": [
    "plt.figure.savefig('yelp_word_distribution.eps')\n",
    "plt.figure.savefig('yelp_word_distribution.jpeg')\n",
    "plt.figure.savefig('yelp_word_distribution.pdf')"
   ]
  },
  {
   "cell_type": "code",
   "execution_count": null,
   "id": "d870dc90-68be-49c5-8617-274dacc66050",
   "metadata": {},
   "outputs": [],
   "source": []
  }
 ],
 "metadata": {
  "kernelspec": {
   "display_name": "Python 3 (ipykernel)",
   "language": "python",
   "name": "python3"
  },
  "language_info": {
   "codemirror_mode": {
    "name": "ipython",
    "version": 3
   },
   "file_extension": ".py",
   "mimetype": "text/x-python",
   "name": "python",
   "nbconvert_exporter": "python",
   "pygments_lexer": "ipython3",
   "version": "3.9.7"
  }
 },
 "nbformat": 4,
 "nbformat_minor": 5
}
