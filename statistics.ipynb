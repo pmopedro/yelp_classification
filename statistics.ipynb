{
 "cells": [
  {
   "cell_type": "code",
   "execution_count": 1,
   "id": "50656daa-ccfc-4056-8e18-1a8f6b2d204b",
   "metadata": {},
   "outputs": [],
   "source": [
    "import numpy as np\n",
    "import pandas as pd\n",
    "import json \n",
    "import nltk\n",
    "import scipy.stats as ss\n",
    "import seaborn as sns"
   ]
  },
  {
   "cell_type": "code",
   "execution_count": 2,
   "id": "ecf7b485-badd-4548-adad-283607f97abc",
   "metadata": {},
   "outputs": [],
   "source": [
    "from nltk.corpus import wordnet\n",
    "##This is a common method which is widely used across the NLP community of practitioners and readers\n",
    "\n",
    "def get_part_of_speech_tags(token):\n",
    "    \"\"\"Maps POS tags to first character lemmatize() accepts.\n",
    "    We are focusing on Verbs, Nouns, Adjectives and Adverbs here.\"\"\"\n",
    "\n",
    "    tag_dict = {\"J\": wordnet.ADJ, \"N\": wordnet.NOUN, \"V\": wordnet.VERB, \"R\": wordnet.ADV}\n",
    "\n",
    "    tag = nltk.pos_tag([token])[0][1][0].upper()\n",
    "    return tag_dict.get(tag, wordnet.NOUN)"
   ]
  },
  {
   "cell_type": "code",
   "execution_count": 3,
   "id": "93de3492-a759-4090-b5a8-7cc2be1a1e27",
   "metadata": {},
   "outputs": [],
   "source": [
    "def string_to_lexical(string):\n",
    "    \"\"\" Returns a DataFrame wht the number of each lexical classes in the given string \"\"\"\n",
    "    \n",
    "    tokenizer = TweetTokenizer()\n",
    "    token_list = tokenizer.tokenize(string)\n",
    "    df = pd.DataFrame([get_part_of_speech_tags(token) for token in token_list]).groupby(0).size()\n",
    "    return df"
   ]
  },
  {
   "cell_type": "code",
   "execution_count": 4,
   "id": "7a4d8ad7-6e81-4966-96a3-52d1ab0944e2",
   "metadata": {},
   "outputs": [
    {
     "name": "stdout",
     "output_type": "stream",
     "text": [
      "<class 'pandas.core.frame.DataFrame'>\n",
      "RangeIndex: 71315 entries, 0 to 71314\n",
      "Data columns (total 11 columns):\n",
      " #   Column       Non-Null Count  Dtype         \n",
      "---  ------       --------------  -----         \n",
      " 0                71315 non-null  int64         \n",
      " 1   review_id    71315 non-null  object        \n",
      " 2   user_id      71315 non-null  object        \n",
      " 3   business_id  71315 non-null  object        \n",
      " 4   stars        71315 non-null  int64         \n",
      " 5   useful       71315 non-null  int64         \n",
      " 6   funny        71315 non-null  int64         \n",
      " 7   cool         71315 non-null  int64         \n",
      " 8   text         71315 non-null  object        \n",
      " 9   date         71315 non-null  datetime64[ns]\n",
      " 10  features     71315 non-null  object        \n",
      "dtypes: datetime64[ns](1), int64(5), object(5)\n",
      "memory usage: 6.0+ MB\n",
      "None\n"
     ]
    },
    {
     "data": {
      "text/html": [
       "<div>\n",
       "<style scoped>\n",
       "    .dataframe tbody tr th:only-of-type {\n",
       "        vertical-align: middle;\n",
       "    }\n",
       "\n",
       "    .dataframe tbody tr th {\n",
       "        vertical-align: top;\n",
       "    }\n",
       "\n",
       "    .dataframe thead th {\n",
       "        text-align: right;\n",
       "    }\n",
       "</style>\n",
       "<table border=\"1\" class=\"dataframe\">\n",
       "  <thead>\n",
       "    <tr style=\"text-align: right;\">\n",
       "      <th></th>\n",
       "      <th></th>\n",
       "      <th>review_id</th>\n",
       "      <th>user_id</th>\n",
       "      <th>business_id</th>\n",
       "      <th>stars</th>\n",
       "      <th>useful</th>\n",
       "      <th>funny</th>\n",
       "      <th>cool</th>\n",
       "      <th>text</th>\n",
       "      <th>date</th>\n",
       "      <th>features</th>\n",
       "    </tr>\n",
       "  </thead>\n",
       "  <tbody>\n",
       "    <tr>\n",
       "      <th>0</th>\n",
       "      <td>613970</td>\n",
       "      <td>m5ecGXbh35Kqh4V9haxicA</td>\n",
       "      <td>OAEV6NodmkIQuBEnGjlPiA</td>\n",
       "      <td>KRNrssbpE1AKo48BIpdLw</td>\n",
       "      <td>5</td>\n",
       "      <td>0</td>\n",
       "      <td>0</td>\n",
       "      <td>0</td>\n",
       "      <td>Best sashimi ever Quality food Good service I ...</td>\n",
       "      <td>2019-01-19 23:22:09</td>\n",
       "      <td>[-0.08915440000000001, 0.36107459999999997, 0....</td>\n",
       "    </tr>\n",
       "    <tr>\n",
       "      <th>1</th>\n",
       "      <td>613971</td>\n",
       "      <td>8F44EKSVg2CvIn0AQf_8A</td>\n",
       "      <td>vBLpG8R3ulwGyomk9ZTtXQ</td>\n",
       "      <td>RHgZxgkzgCkOnz4qNl5Zg</td>\n",
       "      <td>5</td>\n",
       "      <td>0</td>\n",
       "      <td>0</td>\n",
       "      <td>0</td>\n",
       "      <td>Simply Fabulous is the picture of the flowers ...</td>\n",
       "      <td>2019-02-13 13:52:11</td>\n",
       "      <td>[-0.105960484536082, 0.258084360824742, 0.3483...</td>\n",
       "    </tr>\n",
       "    <tr>\n",
       "      <th>2</th>\n",
       "      <td>682814</td>\n",
       "      <td>rSo5E_ATEIqFMXYwBeWj_A</td>\n",
       "      <td>vNhLOpdCRecDih1K9z5smQ</td>\n",
       "      <td>C6QvZLrdEcw3YhKFekFYCw</td>\n",
       "      <td>5</td>\n",
       "      <td>0</td>\n",
       "      <td>0</td>\n",
       "      <td>0</td>\n",
       "      <td>Peace Frog is great\\nThey provide wonderful cu...</td>\n",
       "      <td>2020-10-15 21:15:05</td>\n",
       "      <td>[-0.144226787878787, 0.18622009090909, 0.19586...</td>\n",
       "    </tr>\n",
       "    <tr>\n",
       "      <th>3</th>\n",
       "      <td>682815</td>\n",
       "      <td>1oOOQfdOafD7nmCQdy4CJg</td>\n",
       "      <td>_buzLtGGQr1CdqKgUxgvkw</td>\n",
       "      <td>5wqAfatUT_1WrCjaNBF5A</td>\n",
       "      <td>5</td>\n",
       "      <td>1</td>\n",
       "      <td>0</td>\n",
       "      <td>0</td>\n",
       "      <td>Went in for a Routine Check Up  Noticed How Fa...</td>\n",
       "      <td>2020-02-27 21:51:57</td>\n",
       "      <td>[-0.122542917647058, 0.002868647058823, 0.2630...</td>\n",
       "    </tr>\n",
       "    <tr>\n",
       "      <th>4</th>\n",
       "      <td>613974</td>\n",
       "      <td>FBy9PwmWFf1j7qSGI3fesA</td>\n",
       "      <td>IDebflwD2Hl8mG8oj6DoQg</td>\n",
       "      <td>2hPkrbzphCtP_e2neIyBPg</td>\n",
       "      <td>5</td>\n",
       "      <td>1</td>\n",
       "      <td>0</td>\n",
       "      <td>1</td>\n",
       "      <td>I was a little nervous after reading a few rev...</td>\n",
       "      <td>2019-02-24 06:57:30</td>\n",
       "      <td>[-0.158801581395348, 0.202358209302325, 0.3212...</td>\n",
       "    </tr>\n",
       "  </tbody>\n",
       "</table>\n",
       "</div>"
      ],
      "text/plain": [
       "                        review_id                 user_id  \\\n",
       "0  613970  m5ecGXbh35Kqh4V9haxicA  OAEV6NodmkIQuBEnGjlPiA   \n",
       "1  613971   8F44EKSVg2CvIn0AQf_8A  vBLpG8R3ulwGyomk9ZTtXQ   \n",
       "2  682814  rSo5E_ATEIqFMXYwBeWj_A  vNhLOpdCRecDih1K9z5smQ   \n",
       "3  682815  1oOOQfdOafD7nmCQdy4CJg  _buzLtGGQr1CdqKgUxgvkw   \n",
       "4  613974  FBy9PwmWFf1j7qSGI3fesA  IDebflwD2Hl8mG8oj6DoQg   \n",
       "\n",
       "              business_id  stars  useful  funny  cool  \\\n",
       "0   KRNrssbpE1AKo48BIpdLw      5       0      0     0   \n",
       "1   RHgZxgkzgCkOnz4qNl5Zg      5       0      0     0   \n",
       "2  C6QvZLrdEcw3YhKFekFYCw      5       0      0     0   \n",
       "3   5wqAfatUT_1WrCjaNBF5A      5       1      0     0   \n",
       "4  2hPkrbzphCtP_e2neIyBPg      5       1      0     1   \n",
       "\n",
       "                                                text                date  \\\n",
       "0  Best sashimi ever Quality food Good service I ... 2019-01-19 23:22:09   \n",
       "1  Simply Fabulous is the picture of the flowers ... 2019-02-13 13:52:11   \n",
       "2  Peace Frog is great\\nThey provide wonderful cu... 2020-10-15 21:15:05   \n",
       "3  Went in for a Routine Check Up  Noticed How Fa... 2020-02-27 21:51:57   \n",
       "4  I was a little nervous after reading a few rev... 2019-02-24 06:57:30   \n",
       "\n",
       "                                            features  \n",
       "0  [-0.08915440000000001, 0.36107459999999997, 0....  \n",
       "1  [-0.105960484536082, 0.258084360824742, 0.3483...  \n",
       "2  [-0.144226787878787, 0.18622009090909, 0.19586...  \n",
       "3  [-0.122542917647058, 0.002868647058823, 0.2630...  \n",
       "4  [-0.158801581395348, 0.202358209302325, 0.3212...  "
      ]
     },
     "execution_count": 4,
     "metadata": {},
     "output_type": "execute_result"
    }
   ],
   "source": [
    "full_data = pd.read_json('yelp_reviews_small.json',lines=True)\n",
    "print(full_data.info())\n",
    "full_data.head()"
   ]
  },
  {
   "cell_type": "code",
   "execution_count": 5,
   "id": "30ee4fb5-2be5-4a4e-bf63-01c16b63addc",
   "metadata": {},
   "outputs": [
    {
     "data": {
      "text/html": [
       "<div>\n",
       "<style scoped>\n",
       "    .dataframe tbody tr th:only-of-type {\n",
       "        vertical-align: middle;\n",
       "    }\n",
       "\n",
       "    .dataframe tbody tr th {\n",
       "        vertical-align: top;\n",
       "    }\n",
       "\n",
       "    .dataframe thead th {\n",
       "        text-align: right;\n",
       "    }\n",
       "</style>\n",
       "<table border=\"1\" class=\"dataframe\">\n",
       "  <thead>\n",
       "    <tr style=\"text-align: right;\">\n",
       "      <th></th>\n",
       "      <th>a</th>\n",
       "      <th>n</th>\n",
       "      <th>r</th>\n",
       "      <th>v</th>\n",
       "    </tr>\n",
       "  </thead>\n",
       "  <tbody>\n",
       "    <tr>\n",
       "      <th>0</th>\n",
       "      <td>3.0</td>\n",
       "      <td>9.0</td>\n",
       "      <td>4.0</td>\n",
       "      <td>1.0</td>\n",
       "    </tr>\n",
       "    <tr>\n",
       "      <th>1</th>\n",
       "      <td>6.0</td>\n",
       "      <td>68.0</td>\n",
       "      <td>10.0</td>\n",
       "      <td>15.0</td>\n",
       "    </tr>\n",
       "    <tr>\n",
       "      <th>2</th>\n",
       "      <td>5.0</td>\n",
       "      <td>30.0</td>\n",
       "      <td>2.0</td>\n",
       "      <td>3.0</td>\n",
       "    </tr>\n",
       "    <tr>\n",
       "      <th>3</th>\n",
       "      <td>1.0</td>\n",
       "      <td>28.0</td>\n",
       "      <td>3.0</td>\n",
       "      <td>4.0</td>\n",
       "    </tr>\n",
       "    <tr>\n",
       "      <th>4</th>\n",
       "      <td>6.0</td>\n",
       "      <td>31.0</td>\n",
       "      <td>1.0</td>\n",
       "      <td>7.0</td>\n",
       "    </tr>\n",
       "  </tbody>\n",
       "</table>\n",
       "</div>"
      ],
      "text/plain": [
       "0    a     n     r     v\n",
       "0  3.0   9.0   4.0   1.0\n",
       "1  6.0  68.0  10.0  15.0\n",
       "2  5.0  30.0   2.0   3.0\n",
       "3  1.0  28.0   3.0   4.0\n",
       "4  6.0  31.0   1.0   7.0"
      ]
     },
     "execution_count": 5,
     "metadata": {},
     "output_type": "execute_result"
    }
   ],
   "source": [
    "from nltk.tokenize import TweetTokenizer\n",
    "tokenizer = TweetTokenizer()\n",
    "lexicalsTAG = full_data['text'].apply(string_to_lexical)\n",
    "lexicalsTAG.head()"
   ]
  },
  {
   "cell_type": "code",
   "execution_count": 6,
   "id": "906b99c6-03b7-4b93-b177-a89bda540230",
   "metadata": {},
   "outputs": [],
   "source": [
    "lexicalsTAG.columns= ['ADJ','NOUN','VERB','ADV']"
   ]
  },
  {
   "cell_type": "code",
   "execution_count": 7,
   "id": "faa0a859-cd1b-408b-9005-6a8c805ad6de",
   "metadata": {},
   "outputs": [
    {
     "data": {
      "text/html": [
       "<div>\n",
       "<style scoped>\n",
       "    .dataframe tbody tr th:only-of-type {\n",
       "        vertical-align: middle;\n",
       "    }\n",
       "\n",
       "    .dataframe tbody tr th {\n",
       "        vertical-align: top;\n",
       "    }\n",
       "\n",
       "    .dataframe thead th {\n",
       "        text-align: right;\n",
       "    }\n",
       "</style>\n",
       "<table border=\"1\" class=\"dataframe\">\n",
       "  <thead>\n",
       "    <tr style=\"text-align: right;\">\n",
       "      <th></th>\n",
       "      <th></th>\n",
       "      <th>review_id</th>\n",
       "      <th>user_id</th>\n",
       "      <th>business_id</th>\n",
       "      <th>stars</th>\n",
       "      <th>useful</th>\n",
       "      <th>funny</th>\n",
       "      <th>cool</th>\n",
       "      <th>text</th>\n",
       "      <th>date</th>\n",
       "      <th>features</th>\n",
       "      <th>ADJ</th>\n",
       "      <th>NOUN</th>\n",
       "      <th>VERB</th>\n",
       "      <th>ADV</th>\n",
       "    </tr>\n",
       "  </thead>\n",
       "  <tbody>\n",
       "    <tr>\n",
       "      <th>0</th>\n",
       "      <td>613970</td>\n",
       "      <td>m5ecGXbh35Kqh4V9haxicA</td>\n",
       "      <td>OAEV6NodmkIQuBEnGjlPiA</td>\n",
       "      <td>KRNrssbpE1AKo48BIpdLw</td>\n",
       "      <td>5</td>\n",
       "      <td>0</td>\n",
       "      <td>0</td>\n",
       "      <td>0</td>\n",
       "      <td>Best sashimi ever Quality food Good service I ...</td>\n",
       "      <td>2019-01-19 23:22:09</td>\n",
       "      <td>[-0.08915440000000001, 0.36107459999999997, 0....</td>\n",
       "      <td>3.0</td>\n",
       "      <td>9.0</td>\n",
       "      <td>4.0</td>\n",
       "      <td>1.0</td>\n",
       "    </tr>\n",
       "    <tr>\n",
       "      <th>1</th>\n",
       "      <td>613971</td>\n",
       "      <td>8F44EKSVg2CvIn0AQf_8A</td>\n",
       "      <td>vBLpG8R3ulwGyomk9ZTtXQ</td>\n",
       "      <td>RHgZxgkzgCkOnz4qNl5Zg</td>\n",
       "      <td>5</td>\n",
       "      <td>0</td>\n",
       "      <td>0</td>\n",
       "      <td>0</td>\n",
       "      <td>Simply Fabulous is the picture of the flowers ...</td>\n",
       "      <td>2019-02-13 13:52:11</td>\n",
       "      <td>[-0.105960484536082, 0.258084360824742, 0.3483...</td>\n",
       "      <td>6.0</td>\n",
       "      <td>68.0</td>\n",
       "      <td>10.0</td>\n",
       "      <td>15.0</td>\n",
       "    </tr>\n",
       "    <tr>\n",
       "      <th>2</th>\n",
       "      <td>682814</td>\n",
       "      <td>rSo5E_ATEIqFMXYwBeWj_A</td>\n",
       "      <td>vNhLOpdCRecDih1K9z5smQ</td>\n",
       "      <td>C6QvZLrdEcw3YhKFekFYCw</td>\n",
       "      <td>5</td>\n",
       "      <td>0</td>\n",
       "      <td>0</td>\n",
       "      <td>0</td>\n",
       "      <td>Peace Frog is great\\nThey provide wonderful cu...</td>\n",
       "      <td>2020-10-15 21:15:05</td>\n",
       "      <td>[-0.144226787878787, 0.18622009090909, 0.19586...</td>\n",
       "      <td>5.0</td>\n",
       "      <td>30.0</td>\n",
       "      <td>2.0</td>\n",
       "      <td>3.0</td>\n",
       "    </tr>\n",
       "    <tr>\n",
       "      <th>3</th>\n",
       "      <td>682815</td>\n",
       "      <td>1oOOQfdOafD7nmCQdy4CJg</td>\n",
       "      <td>_buzLtGGQr1CdqKgUxgvkw</td>\n",
       "      <td>5wqAfatUT_1WrCjaNBF5A</td>\n",
       "      <td>5</td>\n",
       "      <td>1</td>\n",
       "      <td>0</td>\n",
       "      <td>0</td>\n",
       "      <td>Went in for a Routine Check Up  Noticed How Fa...</td>\n",
       "      <td>2020-02-27 21:51:57</td>\n",
       "      <td>[-0.122542917647058, 0.002868647058823, 0.2630...</td>\n",
       "      <td>1.0</td>\n",
       "      <td>28.0</td>\n",
       "      <td>3.0</td>\n",
       "      <td>4.0</td>\n",
       "    </tr>\n",
       "    <tr>\n",
       "      <th>4</th>\n",
       "      <td>613974</td>\n",
       "      <td>FBy9PwmWFf1j7qSGI3fesA</td>\n",
       "      <td>IDebflwD2Hl8mG8oj6DoQg</td>\n",
       "      <td>2hPkrbzphCtP_e2neIyBPg</td>\n",
       "      <td>5</td>\n",
       "      <td>1</td>\n",
       "      <td>0</td>\n",
       "      <td>1</td>\n",
       "      <td>I was a little nervous after reading a few rev...</td>\n",
       "      <td>2019-02-24 06:57:30</td>\n",
       "      <td>[-0.158801581395348, 0.202358209302325, 0.3212...</td>\n",
       "      <td>6.0</td>\n",
       "      <td>31.0</td>\n",
       "      <td>1.0</td>\n",
       "      <td>7.0</td>\n",
       "    </tr>\n",
       "  </tbody>\n",
       "</table>\n",
       "</div>"
      ],
      "text/plain": [
       "                        review_id                 user_id  \\\n",
       "0  613970  m5ecGXbh35Kqh4V9haxicA  OAEV6NodmkIQuBEnGjlPiA   \n",
       "1  613971   8F44EKSVg2CvIn0AQf_8A  vBLpG8R3ulwGyomk9ZTtXQ   \n",
       "2  682814  rSo5E_ATEIqFMXYwBeWj_A  vNhLOpdCRecDih1K9z5smQ   \n",
       "3  682815  1oOOQfdOafD7nmCQdy4CJg  _buzLtGGQr1CdqKgUxgvkw   \n",
       "4  613974  FBy9PwmWFf1j7qSGI3fesA  IDebflwD2Hl8mG8oj6DoQg   \n",
       "\n",
       "              business_id  stars  useful  funny  cool  \\\n",
       "0   KRNrssbpE1AKo48BIpdLw      5       0      0     0   \n",
       "1   RHgZxgkzgCkOnz4qNl5Zg      5       0      0     0   \n",
       "2  C6QvZLrdEcw3YhKFekFYCw      5       0      0     0   \n",
       "3   5wqAfatUT_1WrCjaNBF5A      5       1      0     0   \n",
       "4  2hPkrbzphCtP_e2neIyBPg      5       1      0     1   \n",
       "\n",
       "                                                text                date  \\\n",
       "0  Best sashimi ever Quality food Good service I ... 2019-01-19 23:22:09   \n",
       "1  Simply Fabulous is the picture of the flowers ... 2019-02-13 13:52:11   \n",
       "2  Peace Frog is great\\nThey provide wonderful cu... 2020-10-15 21:15:05   \n",
       "3  Went in for a Routine Check Up  Noticed How Fa... 2020-02-27 21:51:57   \n",
       "4  I was a little nervous after reading a few rev... 2019-02-24 06:57:30   \n",
       "\n",
       "                                            features  ADJ  NOUN  VERB   ADV  \n",
       "0  [-0.08915440000000001, 0.36107459999999997, 0....  3.0   9.0   4.0   1.0  \n",
       "1  [-0.105960484536082, 0.258084360824742, 0.3483...  6.0  68.0  10.0  15.0  \n",
       "2  [-0.144226787878787, 0.18622009090909, 0.19586...  5.0  30.0   2.0   3.0  \n",
       "3  [-0.122542917647058, 0.002868647058823, 0.2630...  1.0  28.0   3.0   4.0  \n",
       "4  [-0.158801581395348, 0.202358209302325, 0.3212...  6.0  31.0   1.0   7.0  "
      ]
     },
     "execution_count": 7,
     "metadata": {},
     "output_type": "execute_result"
    }
   ],
   "source": [
    "full_data=full_data.join(lexicalsTAG)\n",
    "full_data.head()"
   ]
  },
  {
   "cell_type": "code",
   "execution_count": 8,
   "id": "de00e395-bb22-47a6-8818-354fa23351e0",
   "metadata": {},
   "outputs": [
    {
     "data": {
      "text/plain": [
       "<AxesSubplot:>"
      ]
     },
     "execution_count": 8,
     "metadata": {},
     "output_type": "execute_result"
    },
    {
     "data": {
      "image/png": "[encoded data removed]",
      "text/plain": [
       "<Figure size 432x288 with 2 Axes>"
      ]
     },
     "metadata": {
      "needs_background": "light"
     },
     "output_type": "display_data"
    }
   ],
   "source": [
    "sns.heatmap(full_data.corr())"
   ]
  },
  {
   "cell_type": "code",
   "execution_count": 9,
   "id": "58e56c3c-e00f-47db-a8fd-a8989f92f11d",
   "metadata": {},
   "outputs": [],
   "source": [
    "# Turn useful > 0 => all equal to 1  \n",
    "full_data.loc[full_data.useful>0,'useful']=1\n",
    "\n",
    "# Turn funny > 0 => all equal to 1  \n",
    "full_data.loc[full_data.funny>0,'funny']=1\n",
    "\n",
    "# Turn cool > 0 => all equal to 1  \n",
    "full_data.loc[full_data.cool>0,'cool']=1"
   ]
  },
  {
   "cell_type": "code",
   "execution_count": 80,
   "id": "76df2a3f-1f3f-4bc5-bf9a-7729b3b84983",
   "metadata": {},
   "outputs": [
    {
     "data": {
      "text/plain": [
       "<AxesSubplot:xlabel='useful'>"
      ]
     },
     "execution_count": 80,
     "metadata": {},
     "output_type": "execute_result"
    },
    {
     "data": {
      "image/png": "[encoded data removed]",
      "text/plain": [
       "<Figure size 432x288 with 1 Axes>"
      ]
     },
     "metadata": {
      "needs_background": "light"
     },
     "output_type": "display_data"
    }
   ],
   "source": [
    "lexicals =  full_data[['useful','ADJ','NOUN','VERB','ADV']]\n",
    "pd.set_option('display.max_columns', 500)\n",
    "(lexicals.groupby('useful').median()/lexicals.groupby('useful').median().sum()).plot(kind='bar')"
   ]
  },
  {
   "cell_type": "code",
   "execution_count": 79,
   "id": "44b98ab9-31e2-46a6-a6d1-cd6729704433",
   "metadata": {},
   "outputs": [
    {
     "data": {
      "text/plain": [
       "<AxesSubplot:xlabel='cool'>"
      ]
     },
     "execution_count": 79,
     "metadata": {},
     "output_type": "execute_result"
    },
    {
     "data": {
      "image/png": "[encoded data removed]",
      "text/plain": [
       "<Figure size 432x288 with 1 Axes>"
      ]
     },
     "metadata": {
      "needs_background": "light"
     },
     "output_type": "display_data"
    }
   ],
   "source": [
    "lexicals =  full_data[['cool','ADJ','NOUN','VERB','ADV']]\n",
    "pd.set_option('display.max_columns', 500)\n",
    "(lexicals.groupby('cool').median()/lexicals.groupby('cool').median().sum()).plot(kind='bar')"
   ]
  },
  {
   "cell_type": "code",
   "execution_count": 78,
   "id": "acb5ae42-b67d-4f81-ada5-9605e047cea4",
   "metadata": {},
   "outputs": [
    {
     "data": {
      "text/plain": [
       "<AxesSubplot:xlabel='funny'>"
      ]
     },
     "execution_count": 78,
     "metadata": {},
     "output_type": "execute_result"
    },
    {
     "data": {
      "image/png": "[encoded data removed]",
      "text/plain": [
       "<Figure size 432x288 with 1 Axes>"
      ]
     },
     "metadata": {
      "needs_background": "light"
     },
     "output_type": "display_data"
    }
   ],
   "source": [
    "lexicals =  full_data[['funny','ADJ','NOUN','VERB','ADV']]\n",
    "pd.set_option('display.max_columns', 500)\n",
    "(lexicals.groupby('funny').median()/lexicals.groupby('funny').median().sum()).plot(kind='bar')"
   ]
  },
  {
   "cell_type": "code",
   "execution_count": 42,
   "id": "75a01e35-c6b2-4d16-b0f2-9ae75090e2fb",
   "metadata": {},
   "outputs": [
    {
     "data": {
      "text/plain": [
       "<AxesSubplot:>"
      ]
     },
     "execution_count": 42,
     "metadata": {},
     "output_type": "execute_result"
    },
    {
     "data": {
      "image/png": "[encoded data removed]",
      "text/plain": [
       "<Figure size 432x288 with 1 Axes>"
      ]
     },
     "metadata": {
      "needs_background": "light"
     },
     "output_type": "display_data"
    }
   ],
   "source": [
    "full_data.text.str.split().apply(len).hist(bins=100,density=True)"
   ]
  },
  {
   "cell_type": "code",
   "execution_count": 68,
   "id": "d0bf721b-682b-4373-8132-f00d76a78301",
   "metadata": {
    "tags": []
   },
   "outputs": [],
   "source": [
    "from sklearn import preprocessing\n",
    "import numpy as np\n",
    "import matplotlib.pyplot as plt"
   ]
  },
  {
   "cell_type": "code",
   "execution_count": 70,
   "id": "96d1ba74-c80b-498f-995c-b37fe62a461a",
   "metadata": {},
   "outputs": [
    {
     "name": "stderr",
     "output_type": "stream",
     "text": [
      "/tmp/ipykernel_3996/3946298941.py:15: UserWarning: When passing multiple axes, sharex and sharey are ignored. These settings must be specified when creating axes.\n",
      "  full_data.text.str.split().apply(len).hist(xrot=90,bins=100,density=True, by=full_data['useful'],sharex=True,ax=axs)\n"
     ]
    },
    {
     "data": {
      "text/plain": [
       "array([<AxesSubplot:title={'center':'Not Useful'}>,\n",
       "       <AxesSubplot:title={'center':'Useful'}>], dtype=object)"
      ]
     },
     "execution_count": 70,
     "metadata": {},
     "output_type": "execute_result"
    },
    {
     "data": {
      "image/png": "[encoded data removed]",
      "text/plain": [
       "<Figure size 432x288 with 2 Axes>"
      ]
     },
     "metadata": {
      "needs_background": "light"
     },
     "output_type": "display_data"
    }
   ],
   "source": [
    "# le = preprocessing.LabelEncoder()\n",
    "# le.fit(['Not Useful', 'Useful'])\n",
    "# full_data['useful']=le.inverse_transform(full_data['useful'])\n",
    "\n",
    "fig, axs = plt.subplots(2, 1)\n",
    "axs[0].set_xlim(0, 300)\n",
    "axs[1].set_xlim(0, 300)\n",
    "\n",
    "axs[0].set_ylim(0, 0.012)\n",
    "axs[1].set_ylim(0, 0.012)\n",
    "# axs[0].set_xlabel('Number of Words')\n",
    "# axs[0].set_ylabel('Useful')\n",
    "axs[0].grid(True)\n",
    "axs[1].grid(True)\n",
    "full_data.text.str.split().apply(len).hist(xrot=90,bins=100,density=True, by=full_data['useful'],sharex=True,ax=axs)"
   ]
  },
  {
   "cell_type": "code",
   "execution_count": 71,
   "id": "188161a7-5392-4cbc-a5b6-bb77718de6bf",
   "metadata": {},
   "outputs": [
    {
     "name": "stderr",
     "output_type": "stream",
     "text": [
      "/tmp/ipykernel_3996/3969619423.py:15: UserWarning: When passing multiple axes, sharex and sharey are ignored. These settings must be specified when creating axes.\n",
      "  full_data.text.str.split().apply(len).hist(xrot=90,bins=100,density=True, by=full_data['cool'],sharex=True,ax=axs)\n"
     ]
    },
    {
     "data": {
      "text/plain": [
       "array([<AxesSubplot:title={'center':'Cool'}>,\n",
       "       <AxesSubplot:title={'center':'Not Cool'}>], dtype=object)"
      ]
     },
     "execution_count": 71,
     "metadata": {},
     "output_type": "execute_result"
    },
    {
     "data": {
      "image/png": "[encoded data removed]",
      "text/plain": [
       "<Figure size 432x288 with 2 Axes>"
      ]
     },
     "metadata": {
      "needs_background": "light"
     },
     "output_type": "display_data"
    }
   ],
   "source": [
    "le = preprocessing.LabelEncoder()\n",
    "le.fit(['Not Cool', 'Cool'])\n",
    "full_data['cool']=le.inverse_transform(full_data['cool'])\n",
    "\n",
    "fig, axs = plt.subplots(2, 1)\n",
    "axs[0].set_xlim(0, 300)\n",
    "axs[1].set_xlim(0, 300)\n",
    "\n",
    "axs[0].set_ylim(0, 0.012)\n",
    "axs[1].set_ylim(0, 0.012)\n",
    "# axs[0].set_xlabel('Number of Words')\n",
    "# axs[0].set_ylabel('Useful')\n",
    "axs[0].grid(True)\n",
    "axs[1].grid(True)\n",
    "full_data.text.str.split().apply(len).hist(xrot=90,bins=100,density=True, by=full_data['cool'],sharex=True,ax=axs)"
   ]
  },
  {
   "cell_type": "code",
   "execution_count": 81,
   "id": "bb67dace-9520-4cbb-b4b1-7192134256e8",
   "metadata": {},
   "outputs": [
    {
     "name": "stderr",
     "output_type": "stream",
     "text": [
      "/tmp/ipykernel_3996/1956171429.py:15: UserWarning: When passing multiple axes, sharex and sharey are ignored. These settings must be specified when creating axes.\n",
      "  full_data.text.str.split().apply(len).hist(xrot=90,bins=100,density=True, by=full_data['funny'],sharex=True,ax=axs)\n"
     ]
    },
    {
     "data": {
      "text/plain": [
       "array([<AxesSubplot:title={'center':'Funny'}>,\n",
       "       <AxesSubplot:title={'center':'Not funny'}>], dtype=object)"
      ]
     },
     "execution_count": 81,
     "metadata": {},
     "output_type": "execute_result"
    },
    {
     "data": {
      "image/png": "[encoded data removed]",
      "text/plain": [
       "<Figure size 432x288 with 2 Axes>"
      ]
     },
     "metadata": {
      "needs_background": "light"
     },
     "output_type": "display_data"
    }
   ],
   "source": [
    "le = preprocessing.LabelEncoder()\n",
    "le.fit(['Not funny', 'Funny'])\n",
    "full_data['funny']=le.inverse_transform(full_data['funny'])\n",
    "\n",
    "fig, axs = plt.subplots(2, 1)\n",
    "axs[0].set_xlim(0, 300)\n",
    "axs[1].set_xlim(0, 300)\n",
    "\n",
    "axs[0].set_ylim(0, 0.012)\n",
    "axs[1].set_ylim(0, 0.012)\n",
    "# axs[0].set_xlabel('Number of Words')\n",
    "# axs[0].set_ylabel('Useful')\n",
    "axs[0].grid(True)\n",
    "axs[1].grid(True)\n",
    "full_data.text.str.split().apply(len).hist(xrot=90,bins=100,density=True, by=full_data['funny'],sharex=True,ax=axs)"
   ]
  },
  {
   "cell_type": "code",
   "execution_count": 84,
   "id": "a183dd6f-ad48-4c5e-8388-d2e982e448a7",
   "metadata": {},
   "outputs": [
    {
     "data": {
      "text/plain": [
       "Sentiment(polarity=0.8, subjectivity=0.75)"
      ]
     },
     "execution_count": 84,
     "metadata": {},
     "output_type": "execute_result"
    }
   ],
   "source": [
    "from textblob import TextBlob\n",
    "TextBlob(\"pizza is great\").sentiment"
   ]
  },
  {
   "cell_type": "code",
   "execution_count": 87,
   "id": "39664cae-5b22-4b44-8ed7-2663fa32e521",
   "metadata": {},
   "outputs": [],
   "source": [
    "result = pd.DataFrame(columns=['polarity','subjectivity'])\n",
    "result['sentiment'] = full_data['text'].apply(lambda doc: TextBlob(doc).sentiment)\n",
    "result = result['sentiment'].apply(pd.Series)\n",
    "result.columns=['polarity','subjectivity']\n",
    "full_data = full_data.join(result)"
   ]
  },
  {
   "cell_type": "code",
   "execution_count": 92,
   "id": "9fcfe5c3-3953-4728-a4b4-5ddc5ad521b2",
   "metadata": {},
   "outputs": [
    {
     "data": {
      "text/html": [
       "<div>\n",
       "<style scoped>\n",
       "    .dataframe tbody tr th:only-of-type {\n",
       "        vertical-align: middle;\n",
       "    }\n",
       "\n",
       "    .dataframe tbody tr th {\n",
       "        vertical-align: top;\n",
       "    }\n",
       "\n",
       "    .dataframe thead tr th {\n",
       "        text-align: left;\n",
       "    }\n",
       "\n",
       "    .dataframe thead tr:last-of-type th {\n",
       "        text-align: right;\n",
       "    }\n",
       "</style>\n",
       "<table border=\"1\" class=\"dataframe\">\n",
       "  <thead>\n",
       "    <tr>\n",
       "      <th></th>\n",
       "      <th colspan=\"8\" halign=\"left\">polarity</th>\n",
       "      <th colspan=\"8\" halign=\"left\">subjectivity</th>\n",
       "    </tr>\n",
       "    <tr>\n",
       "      <th></th>\n",
       "      <th>count</th>\n",
       "      <th>mean</th>\n",
       "      <th>std</th>\n",
       "      <th>min</th>\n",
       "      <th>25%</th>\n",
       "      <th>50%</th>\n",
       "      <th>75%</th>\n",
       "      <th>max</th>\n",
       "      <th>count</th>\n",
       "      <th>mean</th>\n",
       "      <th>std</th>\n",
       "      <th>min</th>\n",
       "      <th>25%</th>\n",
       "      <th>50%</th>\n",
       "      <th>75%</th>\n",
       "      <th>max</th>\n",
       "    </tr>\n",
       "    <tr>\n",
       "      <th>useful</th>\n",
       "      <th></th>\n",
       "      <th></th>\n",
       "      <th></th>\n",
       "      <th></th>\n",
       "      <th></th>\n",
       "      <th></th>\n",
       "      <th></th>\n",
       "      <th></th>\n",
       "      <th></th>\n",
       "      <th></th>\n",
       "      <th></th>\n",
       "      <th></th>\n",
       "      <th></th>\n",
       "      <th></th>\n",
       "      <th></th>\n",
       "      <th></th>\n",
       "    </tr>\n",
       "  </thead>\n",
       "  <tbody>\n",
       "    <tr>\n",
       "      <th>Not Useful</th>\n",
       "      <td>49776.0</td>\n",
       "      <td>0.250051</td>\n",
       "      <td>0.245027</td>\n",
       "      <td>-1.0</td>\n",
       "      <td>0.107272</td>\n",
       "      <td>0.264375</td>\n",
       "      <td>0.406250</td>\n",
       "      <td>1.0</td>\n",
       "      <td>49776.0</td>\n",
       "      <td>0.571674</td>\n",
       "      <td>0.143018</td>\n",
       "      <td>0.0</td>\n",
       "      <td>0.487500</td>\n",
       "      <td>0.570909</td>\n",
       "      <td>0.658727</td>\n",
       "      <td>1.0</td>\n",
       "    </tr>\n",
       "    <tr>\n",
       "      <th>Useful</th>\n",
       "      <td>21539.0</td>\n",
       "      <td>0.194952</td>\n",
       "      <td>0.217630</td>\n",
       "      <td>-1.0</td>\n",
       "      <td>0.067893</td>\n",
       "      <td>0.205303</td>\n",
       "      <td>0.329881</td>\n",
       "      <td>1.0</td>\n",
       "      <td>21539.0</td>\n",
       "      <td>0.553317</td>\n",
       "      <td>0.128665</td>\n",
       "      <td>0.0</td>\n",
       "      <td>0.478862</td>\n",
       "      <td>0.551515</td>\n",
       "      <td>0.629008</td>\n",
       "      <td>1.0</td>\n",
       "    </tr>\n",
       "  </tbody>\n",
       "</table>\n",
       "</div>"
      ],
      "text/plain": [
       "           polarity                                                         \\\n",
       "              count      mean       std  min       25%       50%       75%   \n",
       "useful                                                                       \n",
       "Not Useful  49776.0  0.250051  0.245027 -1.0  0.107272  0.264375  0.406250   \n",
       "Useful      21539.0  0.194952  0.217630 -1.0  0.067893  0.205303  0.329881   \n",
       "\n",
       "                subjectivity                                               \\\n",
       "            max        count      mean       std  min       25%       50%   \n",
       "useful                                                                      \n",
       "Not Useful  1.0      49776.0  0.571674  0.143018  0.0  0.487500  0.570909   \n",
       "Useful      1.0      21539.0  0.553317  0.128665  0.0  0.478862  0.551515   \n",
       "\n",
       "                           \n",
       "                 75%  max  \n",
       "useful                     \n",
       "Not Useful  0.658727  1.0  \n",
       "Useful      0.629008  1.0  "
      ]
     },
     "execution_count": 92,
     "metadata": {},
     "output_type": "execute_result"
    }
   ],
   "source": [
    "col = ['polarity',\t'subjectivity',\t'useful']\n",
    "full_data[col].groupby('useful').describe()"
   ]
  },
  {
   "cell_type": "code",
   "execution_count": 94,
   "id": "82b45423-e839-4506-8a09-6649be77bbe3",
   "metadata": {},
   "outputs": [
    {
     "data": {
      "text/html": [
       "<div>\n",
       "<style scoped>\n",
       "    .dataframe tbody tr th:only-of-type {\n",
       "        vertical-align: middle;\n",
       "    }\n",
       "\n",
       "    .dataframe tbody tr th {\n",
       "        vertical-align: top;\n",
       "    }\n",
       "\n",
       "    .dataframe thead tr th {\n",
       "        text-align: left;\n",
       "    }\n",
       "\n",
       "    .dataframe thead tr:last-of-type th {\n",
       "        text-align: right;\n",
       "    }\n",
       "</style>\n",
       "<table border=\"1\" class=\"dataframe\">\n",
       "  <thead>\n",
       "    <tr>\n",
       "      <th></th>\n",
       "      <th colspan=\"8\" halign=\"left\">polarity</th>\n",
       "      <th colspan=\"8\" halign=\"left\">subjectivity</th>\n",
       "    </tr>\n",
       "    <tr>\n",
       "      <th></th>\n",
       "      <th>count</th>\n",
       "      <th>mean</th>\n",
       "      <th>std</th>\n",
       "      <th>min</th>\n",
       "      <th>25%</th>\n",
       "      <th>50%</th>\n",
       "      <th>75%</th>\n",
       "      <th>max</th>\n",
       "      <th>count</th>\n",
       "      <th>mean</th>\n",
       "      <th>std</th>\n",
       "      <th>min</th>\n",
       "      <th>25%</th>\n",
       "      <th>50%</th>\n",
       "      <th>75%</th>\n",
       "      <th>max</th>\n",
       "    </tr>\n",
       "    <tr>\n",
       "      <th>cool</th>\n",
       "      <th></th>\n",
       "      <th></th>\n",
       "      <th></th>\n",
       "      <th></th>\n",
       "      <th></th>\n",
       "      <th></th>\n",
       "      <th></th>\n",
       "      <th></th>\n",
       "      <th></th>\n",
       "      <th></th>\n",
       "      <th></th>\n",
       "      <th></th>\n",
       "      <th></th>\n",
       "      <th></th>\n",
       "      <th></th>\n",
       "      <th></th>\n",
       "    </tr>\n",
       "  </thead>\n",
       "  <tbody>\n",
       "    <tr>\n",
       "      <th>Cool</th>\n",
       "      <td>60326.0</td>\n",
       "      <td>0.229261</td>\n",
       "      <td>0.247338</td>\n",
       "      <td>-1.000</td>\n",
       "      <td>0.079231</td>\n",
       "      <td>0.243041</td>\n",
       "      <td>0.391250</td>\n",
       "      <td>1.0</td>\n",
       "      <td>60326.0</td>\n",
       "      <td>0.566213</td>\n",
       "      <td>0.142881</td>\n",
       "      <td>0.0</td>\n",
       "      <td>0.483164</td>\n",
       "      <td>0.565476</td>\n",
       "      <td>0.651875</td>\n",
       "      <td>1.0</td>\n",
       "    </tr>\n",
       "    <tr>\n",
       "      <th>Not Cool</th>\n",
       "      <td>10989.0</td>\n",
       "      <td>0.256183</td>\n",
       "      <td>0.180234</td>\n",
       "      <td>-0.975</td>\n",
       "      <td>0.150536</td>\n",
       "      <td>0.252525</td>\n",
       "      <td>0.360185</td>\n",
       "      <td>1.0</td>\n",
       "      <td>10989.0</td>\n",
       "      <td>0.565668</td>\n",
       "      <td>0.116130</td>\n",
       "      <td>0.0</td>\n",
       "      <td>0.494211</td>\n",
       "      <td>0.562708</td>\n",
       "      <td>0.635000</td>\n",
       "      <td>1.0</td>\n",
       "    </tr>\n",
       "  </tbody>\n",
       "</table>\n",
       "</div>"
      ],
      "text/plain": [
       "         polarity                                                           \\\n",
       "            count      mean       std    min       25%       50%       75%   \n",
       "cool                                                                         \n",
       "Cool      60326.0  0.229261  0.247338 -1.000  0.079231  0.243041  0.391250   \n",
       "Not Cool  10989.0  0.256183  0.180234 -0.975  0.150536  0.252525  0.360185   \n",
       "\n",
       "              subjectivity                                               \\\n",
       "          max        count      mean       std  min       25%       50%   \n",
       "cool                                                                      \n",
       "Cool      1.0      60326.0  0.566213  0.142881  0.0  0.483164  0.565476   \n",
       "Not Cool  1.0      10989.0  0.565668  0.116130  0.0  0.494211  0.562708   \n",
       "\n",
       "                         \n",
       "               75%  max  \n",
       "cool                     \n",
       "Cool      0.651875  1.0  \n",
       "Not Cool  0.635000  1.0  "
      ]
     },
     "execution_count": 94,
     "metadata": {},
     "output_type": "execute_result"
    }
   ],
   "source": [
    "col = ['polarity',\t'subjectivity',\t'cool']\n",
    "full_data[col].groupby('cool').describe()"
   ]
  },
  {
   "cell_type": "code",
   "execution_count": 95,
   "id": "18a8b8d8-1aff-49df-a719-cd5360b077f6",
   "metadata": {},
   "outputs": [
    {
     "data": {
      "text/html": [
       "<div>\n",
       "<style scoped>\n",
       "    .dataframe tbody tr th:only-of-type {\n",
       "        vertical-align: middle;\n",
       "    }\n",
       "\n",
       "    .dataframe tbody tr th {\n",
       "        vertical-align: top;\n",
       "    }\n",
       "\n",
       "    .dataframe thead tr th {\n",
       "        text-align: left;\n",
       "    }\n",
       "\n",
       "    .dataframe thead tr:last-of-type th {\n",
       "        text-align: right;\n",
       "    }\n",
       "</style>\n",
       "<table border=\"1\" class=\"dataframe\">\n",
       "  <thead>\n",
       "    <tr>\n",
       "      <th></th>\n",
       "      <th colspan=\"8\" halign=\"left\">polarity</th>\n",
       "      <th colspan=\"8\" halign=\"left\">subjectivity</th>\n",
       "    </tr>\n",
       "    <tr>\n",
       "      <th></th>\n",
       "      <th>count</th>\n",
       "      <th>mean</th>\n",
       "      <th>std</th>\n",
       "      <th>min</th>\n",
       "      <th>25%</th>\n",
       "      <th>50%</th>\n",
       "      <th>75%</th>\n",
       "      <th>max</th>\n",
       "      <th>count</th>\n",
       "      <th>mean</th>\n",
       "      <th>std</th>\n",
       "      <th>min</th>\n",
       "      <th>25%</th>\n",
       "      <th>50%</th>\n",
       "      <th>75%</th>\n",
       "      <th>max</th>\n",
       "    </tr>\n",
       "    <tr>\n",
       "      <th>funny</th>\n",
       "      <th></th>\n",
       "      <th></th>\n",
       "      <th></th>\n",
       "      <th></th>\n",
       "      <th></th>\n",
       "      <th></th>\n",
       "      <th></th>\n",
       "      <th></th>\n",
       "      <th></th>\n",
       "      <th></th>\n",
       "      <th></th>\n",
       "      <th></th>\n",
       "      <th></th>\n",
       "      <th></th>\n",
       "      <th></th>\n",
       "      <th></th>\n",
       "    </tr>\n",
       "  </thead>\n",
       "  <tbody>\n",
       "    <tr>\n",
       "      <th>Funny</th>\n",
       "      <td>64259.0</td>\n",
       "      <td>0.239420</td>\n",
       "      <td>0.241139</td>\n",
       "      <td>-1.0</td>\n",
       "      <td>0.099497</td>\n",
       "      <td>0.251042</td>\n",
       "      <td>0.395000</td>\n",
       "      <td>1.0</td>\n",
       "      <td>64259.0</td>\n",
       "      <td>0.568042</td>\n",
       "      <td>0.140244</td>\n",
       "      <td>0.0</td>\n",
       "      <td>0.485714</td>\n",
       "      <td>0.566667</td>\n",
       "      <td>0.651819</td>\n",
       "      <td>1.0</td>\n",
       "    </tr>\n",
       "    <tr>\n",
       "      <th>Not funny</th>\n",
       "      <td>7056.0</td>\n",
       "      <td>0.178666</td>\n",
       "      <td>0.204206</td>\n",
       "      <td>-1.0</td>\n",
       "      <td>0.061394</td>\n",
       "      <td>0.188188</td>\n",
       "      <td>0.301117</td>\n",
       "      <td>1.0</td>\n",
       "      <td>7056.0</td>\n",
       "      <td>0.548708</td>\n",
       "      <td>0.126839</td>\n",
       "      <td>0.0</td>\n",
       "      <td>0.476736</td>\n",
       "      <td>0.548205</td>\n",
       "      <td>0.622500</td>\n",
       "      <td>1.0</td>\n",
       "    </tr>\n",
       "  </tbody>\n",
       "</table>\n",
       "</div>"
      ],
      "text/plain": [
       "          polarity                                                         \\\n",
       "             count      mean       std  min       25%       50%       75%   \n",
       "funny                                                                       \n",
       "Funny      64259.0  0.239420  0.241139 -1.0  0.099497  0.251042  0.395000   \n",
       "Not funny   7056.0  0.178666  0.204206 -1.0  0.061394  0.188188  0.301117   \n",
       "\n",
       "               subjectivity                                               \\\n",
       "           max        count      mean       std  min       25%       50%   \n",
       "funny                                                                      \n",
       "Funny      1.0      64259.0  0.568042  0.140244  0.0  0.485714  0.566667   \n",
       "Not funny  1.0       7056.0  0.548708  0.126839  0.0  0.476736  0.548205   \n",
       "\n",
       "                          \n",
       "                75%  max  \n",
       "funny                     \n",
       "Funny      0.651819  1.0  \n",
       "Not funny  0.622500  1.0  "
      ]
     },
     "execution_count": 95,
     "metadata": {},
     "output_type": "execute_result"
    }
   ],
   "source": [
    "col = ['polarity',\t'subjectivity',\t'funny']\n",
    "full_data[col].groupby('funny').describe()"
   ]
  },
  {
   "cell_type": "code",
   "execution_count": null,
   "id": "079c4fee-940a-4e9d-8b18-d2ecc82ed706",
   "metadata": {},
   "outputs": [],
   "source": []
  }
 ],
 "metadata": {
  "kernelspec": {
   "display_name": "Python 3 (ipykernel)",
   "language": "python",
   "name": "python3"
  },
  "language_info": {
   "codemirror_mode": {
    "name": "ipython",
    "version": 3
   },
   "file_extension": ".py",
   "mimetype": "text/x-python",
   "name": "python",
   "nbconvert_exporter": "python",
   "pygments_lexer": "ipython3",
   "version": "3.10.1"
  }
 },
 "nbformat": 4,
 "nbformat_minor": 5
}
